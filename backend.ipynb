{
 "cells": [
  {
   "cell_type": "markdown",
   "metadata": {},
   "source": [
    "## 1. Packages & Initializations"
   ]
  },
  {
   "cell_type": "code",
   "execution_count": 57,
   "metadata": {},
   "outputs": [],
   "source": [
    "from flask import Flask, request, jsonify, render_template, redirect, url_for, session\n",
    "from flask_sqlalchemy import SQLAlchemy\n",
    "from werkzeug.security import check_password_hash, generate_password_hash\n",
    "from abc import ABC, abstractmethod\n",
    "from statsmodels.tsa.stattools import adfuller\n",
    "from statsmodels.tsa.ar_model import AutoReg\n",
    "from sklearn.model_selection import TimeSeriesSplit\n",
    "from statsmodels.tsa.seasonal import seasonal_decompose\n",
    "from sklearn.metrics import r2_score\n",
    "from itertools import product\n",
    "import pickle\n",
    "import yfinance as yf\n",
    "import pandas as pd\n",
    "import numpy as np\n",
    "import matplotlib.pyplot as plt\n",
    "import warnings\n",
    "from datetime import datetime, timedelta\n",
    "import string\n",
    "import random\n",
    "import re\n",
    "import base64\n",
    "import io"
   ]
  },
  {
   "cell_type": "code",
   "execution_count": 58,
   "metadata": {},
   "outputs": [],
   "source": [
    "app = Flask(__name__)\n",
    "# Configure the SQLAlchemy part of the app instance\n",
    "app.config['SQLALCHEMY_DATABASE_URI'] = 'sqlite:///aidea.db'\n",
    "app.config['SQLALCHEMY_TRACK_MODIFICATIONS'] = False\n",
    "app.secret_key = 'Doggan98-ddd'\n",
    "# Create the SQLAlchemy db instance\n",
    "db = SQLAlchemy(app)"
   ]
  },
  {
   "cell_type": "markdown",
   "metadata": {},
   "source": [
    "## 2. Models"
   ]
  },
  {
   "cell_type": "markdown",
   "metadata": {},
   "source": [
    "### 2.0 Model Class Abstraction"
   ]
  },
  {
   "cell_type": "code",
   "execution_count": 59,
   "metadata": {},
   "outputs": [],
   "source": [
    "class Model(ABC):\n",
    "    def __init__(self, data, volume, symbol_name):\n",
    "        self.data = data\n",
    "        self.volume = volume\n",
    "        self.symbol_name = symbol_name\n",
    "\n",
    "    @abstractmethod\n",
    "    def train(self):\n",
    "        \"\"\"\n",
    "        Abstract method to train the model.\n",
    "        \"\"\"\n",
    "        pass\n",
    "    \n",
    "    @abstractmethod\n",
    "    def forecast(self, forecast_days):\n",
    "        \"\"\"\n",
    "        Abstract method to make predictions using the trained model.\n",
    "        \"\"\"\n",
    "        pass"
   ]
  },
  {
   "cell_type": "markdown",
   "metadata": {},
   "source": [
    "### 2.1 AR Model"
   ]
  },
  {
   "cell_type": "code",
   "execution_count": 60,
   "metadata": {},
   "outputs": [],
   "source": [
    "class AR_model(Model):\n",
    "    def __init__(self, data, symbol_name):\n",
    "        # Handle NaNs\n",
    "        data.dropna(inplace = True)\n",
    "        super().__init__(data = data['Close'], volume = data['Volume'], symbol_name = symbol_name)\n",
    "        self.trained_model = None\n",
    "        self.model_type = 'Auto Regressive'\n",
    "        self.stationary = False\n",
    "\n",
    "    def check_stationarity(self, series, alpha=0.05):\n",
    "        series = series.dropna()\n",
    "        result = adfuller(series)\n",
    "        p_value = result[1]\n",
    "        self.stationary = p_value < alpha\n",
    "        return self.stationary \n",
    "\n",
    "    def log_transform(self, series):\n",
    "        return np.log(series).dropna()\n",
    "    \n",
    "    def train(self):\n",
    "            # Check stationarity and apply log transformation if needed\n",
    "            data = self.data\n",
    "            if not self.check_stationarity(self.data):\n",
    "                print(\"Series is not stationary. Applying log transformation...\")\n",
    "                data = self.log_transform(self.data)\n",
    "                    \n",
    "            # Define parameter grid for tuning\n",
    "            trends = ['n', 'c', 't', 'ct']\n",
    "            min_lag = 1\n",
    "            max_lag = int(np.sqrt(len(data))) if len(data) >= 20 else len(data) // 2  # Ensure a practical upper bound for small datasets\n",
    "            lags_range = range(min_lag, max_lag + 1) \n",
    "\n",
    "            best_r2 = -float('inf') \n",
    "            best_params = 'n', 1\n",
    "\n",
    "            # Perform grid search with cross-validation on the training set\n",
    "            # Choose the best params based on R2 score\n",
    "            n_splits = 3\n",
    "            tscv = TimeSeriesSplit(n_splits=n_splits)  # Time series cross-validation\n",
    "            warnings.filterwarnings(\"ignore\")\n",
    "            for trend, lags in product(trends, lags_range):\n",
    "                r2_sum = 0\n",
    "                for train_index, val_index in tscv.split(data):\n",
    "                    train_split, val_split = data.iloc[train_index], data.iloc[val_index]\n",
    "                    try:\n",
    "                        model = AutoReg(train_split.values, lags=lags, trend=trend).fit()\n",
    "                        predictions = model.predict(start=len(train_split), end=len(train_split) + len(val_split) - 1)\n",
    "                        r2 = r2_score(val_split, predictions)\n",
    "                        r2_sum += r2\n",
    "                    except Exception as e:\n",
    "                        continue\n",
    "                \n",
    "                # Average R2 score across folds\n",
    "                avg_r2 = r2_sum / n_splits\n",
    "                \n",
    "                # Update best parameters if better R2 found\n",
    "                if avg_r2 > best_r2:\n",
    "                    best_r2 = avg_r2\n",
    "                    best_params = (trend, lags)\n",
    "\n",
    "            best_trend, best_lags = best_params\n",
    "        \n",
    "            print(f\"Best R2 score: {best_r2:.4f}\")\n",
    "            print(f\"Best parameters: trend={best_trend}, lags={best_lags}\")\n",
    "        \n",
    "            # Fit the best model on the entire dataset \n",
    "            try:\n",
    "                self.trained_model = AutoReg(data, lags=best_lags, trend=best_trend).fit()\n",
    "                print(f'Model training successful')\n",
    "            except Exception as e:\n",
    "                print(f'Model training failed with the error message: {e}')\n",
    "            \n",
    "    def forecast(self, forecast_days):\n",
    "        #Forecast next forecast_period days\n",
    "        start = len(self.data)\n",
    "        end = start + forecast_days - 1\n",
    "        forecast_prices = self.trained_model.predict(start=start, end=end)\n",
    "       # Optional: Reverse log transformation if applied\n",
    "        if not self.stationary:\n",
    "            forecast_prices = np.exp(forecast_prices)\n",
    "\n",
    "        # Plot the data\n",
    "        # Create date range for forecasted data\n",
    "        forecast_dates = pd.date_range(start=self.data.index[-1] + pd.Timedelta(days=1), periods=forecast_days, freq='D')\n",
    "\n",
    "        # Create figure and axis\n",
    "        fig, (ax1, ax2) = plt.subplots(nrows=2, sharex=True, figsize=(16, 8), gridspec_kw={'height_ratios': [3, 1]})\n",
    "\n",
    "        # Plot the price data\n",
    "        ax1.plot(self.data.index, self.data, label='Historical Data', color='black')\n",
    "        ax1.plot(forecast_dates, forecast_prices, label='Forecasted Prices', color='red')\n",
    "        ax1.set_title(f'Model: {self.model_type} \\n Symbol: {self.symbol_name}', weight = 'bold')\n",
    "        ax1.set_ylabel('Close Price', weight = 'bold')\n",
    "        ax1.legend(loc='upper left')\n",
    "        ax1.grid(True)\n",
    "\n",
    "        # Plot the volume data\n",
    "        volume_colors = np.where(self.data.diff() >= 0, 'green', 'red')\n",
    "        ax2.bar(self.data.index, self.volume, color=volume_colors, alpha=0.6)\n",
    "        ax2.set_ylabel('Volume', weight = 'bold')\n",
    "        ax2.set_xlabel('Date', weight = 'bold')\n",
    "        ax2.grid(True)\n",
    "\n",
    "        # Save plot to a bytes buffer\n",
    "        buf = io.BytesIO()\n",
    "        plt.savefig(buf, format='png')\n",
    "        buf.seek(0)\n",
    "        plot_data = base64.b64encode(buf.read()).decode('utf-8')\n",
    "        buf.close()\n",
    "        #plt.show()\n",
    "        plt.close(fig)  # Close the plot to free up resources\n",
    "\n",
    "        return plot_data"
   ]
  },
  {
   "cell_type": "markdown",
   "metadata": {},
   "source": [
    "### Model Creation Method"
   ]
  },
  {
   "cell_type": "code",
   "execution_count": 61,
   "metadata": {},
   "outputs": [],
   "source": [
    "def create_model(model_type, data, symbol_name):\n",
    "    if model_type == 'AR':\n",
    "        return AR_model(data, symbol_name)"
   ]
  },
  {
   "cell_type": "markdown",
   "metadata": {},
   "source": [
    "## 3. Database for User and Model Tables"
   ]
  },
  {
   "cell_type": "markdown",
   "metadata": {},
   "source": [
    "### 3.1 Users Table"
   ]
  },
  {
   "cell_type": "code",
   "execution_count": 62,
   "metadata": {},
   "outputs": [],
   "source": [
    "class User(db.Model):\n",
    "    id = db.Column(db.Integer, primary_key=True, autoincrement=True)\n",
    "    email = db.Column(db.String(120), unique=True, nullable=False)\n",
    "    password = db.Column(db.String(255), nullable=False)\n",
    "    account_type = db.Column(db.String(20), nullable=False)  # 'basic' or 'premium'\n",
    "    symbols = db.relationship('Symbol', backref='user', lazy=True)\n",
    "\n",
    "    def __repr__(self):\n",
    "        return f'<User: {self.email} - Account Type: {self.account_type}>'"
   ]
  },
  {
   "cell_type": "markdown",
   "metadata": {},
   "source": [
    "### 3.2 Symbols Table"
   ]
  },
  {
   "cell_type": "code",
   "execution_count": 63,
   "metadata": {},
   "outputs": [],
   "source": [
    "class Symbol(db.Model):\n",
    "    id = db.Column(db.Integer, primary_key=True, autoincrement=True)\n",
    "    name = db.Column(db.String(50), nullable=False, unique=False)\n",
    "    user_id = db.Column(db.Integer, db.ForeignKey('user.id'), nullable=False)\n",
    "\n",
    "    def __repr__(self):\n",
    "        return f'<Symbol: {self.name}>'"
   ]
  },
  {
   "cell_type": "markdown",
   "metadata": {},
   "source": [
    "### 3.3 Trained Models Table"
   ]
  },
  {
   "cell_type": "code",
   "execution_count": 64,
   "metadata": {},
   "outputs": [],
   "source": [
    "class TrainedModels(db.Model):\n",
    "    id = db.Column(db.Integer, primary_key=True, autoincrement=True)\n",
    "    symbol = db.Column(db.String(20), nullable=False)\n",
    "    model_type = db.Column(db.String(50), nullable=False)\n",
    "    start_date = db.Column(db.String(50), nullable=False)\n",
    "    end_date = db.Column(db.String(50), nullable=False)  # Nullable if model is ongoing\n",
    "    model_obj = db.Column(db.Text)  # Serialized model data or file path\n",
    "\n",
    "    def __repr__(self):\n",
    "        return f'<Model: {self.model_type} - Symbol: {self.symbol} - Start Date: {self.start_date} - End Date: {self.end_date}>'\n",
    "\n",
    "    def save_trained_model(self, model_obj):\n",
    "        \"\"\"\n",
    "        Save the trained model to the database.\n",
    "        \"\"\"\n",
    "        self.model_obj = pickle.dumps(model_obj)\n",
    "        db.session.add(self)\n",
    "        db.session.commit()\n",
    "    \n",
    "    @classmethod\n",
    "    def load_trained_model(self, model_type, start_date, end_date, symbol):\n",
    "        model_entry = TrainedModels.query.filter_by(\n",
    "                        model_type=model_type,\n",
    "                        start_date=start_date,\n",
    "                        end_date=end_date,\n",
    "                        symbol=symbol\n",
    "                    ).first()\n",
    "        if model_entry:\n",
    "            return pickle.loads(model_entry.model_obj)\n",
    "        else:\n",
    "            return None\n"
   ]
  },
  {
   "cell_type": "markdown",
   "metadata": {},
   "source": [
    "### 3.4 Temporary Password"
   ]
  },
  {
   "cell_type": "code",
   "execution_count": 65,
   "metadata": {},
   "outputs": [],
   "source": [
    "class TemporaryPassword(db.Model):\n",
    "    email = db.Column(db.String(120), primary_key=True, nullable=False)\n",
    "    temp_password = db.Column(db.String(255), nullable=False)"
   ]
  },
  {
   "cell_type": "markdown",
   "metadata": {},
   "source": [
    "## 4. PAGES"
   ]
  },
  {
   "cell_type": "code",
   "execution_count": 66,
   "metadata": {},
   "outputs": [],
   "source": [
    "@app.route('/')\n",
    "def index():\n",
    "    return render_template('login.html')"
   ]
  },
  {
   "cell_type": "markdown",
   "metadata": {},
   "source": [
    "### 4.1 Login "
   ]
  },
  {
   "cell_type": "code",
   "execution_count": 67,
   "metadata": {},
   "outputs": [],
   "source": [
    "@app.route('/login', methods=['GET', 'POST'])\n",
    "def login():\n",
    "\n",
    "    if request.method == 'GET':\n",
    "        # Serve the signup and forgot password page\n",
    "        return render_template('login.html')\n",
    "    \n",
    "    if request.method == 'POST':\n",
    "        data = request.json\n",
    "        email = data.get('email')\n",
    "        password = data.get('password')\n",
    "        \n",
    "        user = User.query.filter_by(email=email).first()\n",
    "\n",
    "        if user and check_password_hash(user.password, password):\n",
    "            # Store user ID in session\n",
    "            session['user_id'] = user.id\n",
    "            return jsonify({'message': 'Login successful!', 'redirect': url_for('main')}), 200\n",
    "        else:\n",
    "            return jsonify({'message': 'Invalid credentials'}), 401"
   ]
  },
  {
   "cell_type": "markdown",
   "metadata": {},
   "source": [
    "### 4.2 Signup"
   ]
  },
  {
   "cell_type": "code",
   "execution_count": 68,
   "metadata": {},
   "outputs": [],
   "source": [
    "def is_valid_password(password):\n",
    "    \"\"\"Check if the password is valid based on the criteria.\"\"\"\n",
    "    if len(password) < 8: # Check password length\n",
    "        return False\n",
    "    if not re.search(r'[A-Z]', password):  # Check for uppercase letter\n",
    "        return False\n",
    "    if not re.search(r'[a-z]', password):  # Check for lowercase letter\n",
    "        return False\n",
    "    if not re.search(r'[0-9]', password):  # Check for number\n",
    "        return False\n",
    "    return True"
   ]
  },
  {
   "cell_type": "code",
   "execution_count": 69,
   "metadata": {},
   "outputs": [],
   "source": [
    "@app.route('/signup', methods=['GET', 'POST'])\n",
    "def signup():\n",
    "    if request.method == 'GET':\n",
    "        # Serve the signup page\n",
    "        return render_template('signup.html')\n",
    "    \n",
    "    if request.method == 'POST':\n",
    "        data = request.json\n",
    "        if not data:\n",
    "            return jsonify({'message': 'No data provided'}), 400\n",
    "        \n",
    "        email = data.get('email')\n",
    "        password = data.get('password')\n",
    "        password_re = data.get('password_re')\n",
    "        \n",
    "        # Check if all fields are present\n",
    "        if not email or not password or not password_re:\n",
    "            return jsonify({'message': 'All fields are required.'}), 400\n",
    "\n",
    "        # Check if email already exists\n",
    "        existing_user = User.query.filter_by(email=email).first()\n",
    "        if existing_user:\n",
    "            return jsonify({'message': 'User already exists.'}), 400\n",
    "\n",
    "        # Check if passwords match\n",
    "        if password != password_re:\n",
    "            return jsonify({'message': 'Passwords do not match.'}), 400\n",
    "        \n",
    "        # Validate password strength\n",
    "        if not is_valid_password(password):\n",
    "            return jsonify({'message': 'Password must be at least 8 characters long, include uppercase letters, lowercase letters, and numbers.'}), 400\n",
    "        \n",
    "        # Create new user\n",
    "        hashed_password = generate_password_hash(password, method='pbkdf2:sha256')\n",
    "\n",
    "        # Creating an empty list of symbols for the new user is implicit because we start with no symbols related to the user\n",
    "        new_user = User(email=email, password=hashed_password, account_type='basic')\n",
    "        try:\n",
    "            db.session.add(new_user)\n",
    "            db.session.commit()\n",
    "            return jsonify({'message': 'Sign-up successful!', 'redirect': url_for('login')}), 200\n",
    "        except Exception as e:\n",
    "            return jsonify({'message': 'Error creating user.'}), 500\n"
   ]
  },
  {
   "cell_type": "markdown",
   "metadata": {},
   "source": [
    "### 4.3 Request E-mail"
   ]
  },
  {
   "cell_type": "code",
   "execution_count": 70,
   "metadata": {},
   "outputs": [],
   "source": [
    "def generate_temporary_password(length=8):\n",
    "    letters_and_digits = string.ascii_letters + string.digits\n",
    "    return ''.join(random.choice(letters_and_digits) for i in range(length))\n",
    "\n",
    "def send_email(email, temporary_password):\n",
    "    # Placeholder function to simulate sending an email\n",
    "    # Implement actual email sending logic here\n",
    "    print(f\"Sending temporary password to {email}: {temporary_password}\")"
   ]
  },
  {
   "cell_type": "code",
   "execution_count": 71,
   "metadata": {},
   "outputs": [],
   "source": [
    "@app.route('/request_email', methods=['GET', 'POST'])\n",
    "def request_email():\n",
    "    if request.method == 'POST':\n",
    "        data = request.get_json()\n",
    "        email = data.get('email')\n",
    "        \n",
    "        # Check if the email exists in the User database\n",
    "        user = User.query.filter_by(email=email).first()\n",
    "        if user:  \n",
    "            # Generate a temporary password\n",
    "            temp_password = generate_temporary_password()\n",
    "            # Check if a temporary password entry already exists for the email\n",
    "            temp_password_entry = TemporaryPassword.query.filter_by(email=email).first()\n",
    "            if temp_password_entry:\n",
    "                db.session.delete(temp_password_entry)\n",
    "                db.session.commit()\n",
    "\n",
    "            temp_password_entry = TemporaryPassword(email=email, temp_password=temp_password)\n",
    "            db.session.add(temp_password_entry)\n",
    "            db.session.commit()\n",
    "            \n",
    "            # Send a temporary password\n",
    "            send_email(email, temp_password)\n",
    "\n",
    "            # Store the email in a session to use in forgot password section\n",
    "            session['resetEmail'] = email\n",
    "            \n",
    "            return jsonify({'success': True, 'message': 'Temporary password sent to your email'})\n",
    "        else:\n",
    "            return jsonify({'success': False, 'message': 'Email not found'})\n",
    "\n",
    "    return render_template('request_email.html')\n"
   ]
  },
  {
   "cell_type": "markdown",
   "metadata": {},
   "source": [
    "### 4.4 Forgot Passward"
   ]
  },
  {
   "cell_type": "code",
   "execution_count": 72,
   "metadata": {},
   "outputs": [],
   "source": [
    "@app.route('/forgot_password', methods=['GET', 'POST'])\n",
    "def forgot_password():\n",
    "    if request.method == 'POST':\n",
    "        data = request.get_json()\n",
    "        temp_password = data.get('tempPassword')\n",
    "        \n",
    "        #Retrieve email from session\n",
    "        email = session.get('resetEmail')\n",
    "\n",
    "        if not email:\n",
    "            return jsonify({'success': False, 'message': 'No email found in session. Please request an email first.'})\n",
    "\n",
    "        # Check the temporary password in the database\n",
    "        temp_password_entry = TemporaryPassword.query.filter_by(email=email, temp_password=temp_password).first()\n",
    "        if temp_password_entry:\n",
    "            # Temporary password matches\n",
    "            return jsonify({'success': True, 'message': 'Temporary password verified. Proceed to reset password.'})\n",
    "        else:\n",
    "            return jsonify({'success': False, 'message': 'Invalid temporary password'})\n",
    "\n",
    "    return render_template('forgot_password.html')"
   ]
  },
  {
   "cell_type": "markdown",
   "metadata": {},
   "source": [
    "### 4.5 Reset Password"
   ]
  },
  {
   "cell_type": "code",
   "execution_count": 73,
   "metadata": {},
   "outputs": [],
   "source": [
    "@app.route('/reset_password', methods=['GET', 'POST'])\n",
    "def reset_password():\n",
    "    if request.method == 'POST':\n",
    "        data = request.get_json()\n",
    "        new_password = data.get('newPassword')\n",
    "        new_password_re = data.get('newPassword_re')\n",
    "\n",
    "        # Retrieve the email from session\n",
    "        email = session.get('resetEmail')\n",
    "\n",
    "        if not email:\n",
    "            return jsonify({'success': False, 'message': 'No email found in session. Please request an email first.'})\n",
    "\n",
    "        if new_password != new_password_re:\n",
    "            return jsonify({'success': False, 'message': 'Passwords do not match'})\n",
    "        \n",
    "        # Validate password strength\n",
    "        if not is_valid_password(new_password):\n",
    "            return jsonify({'message': 'Password must be at least 8 characters long, include uppercase letters, lowercase letters, and numbers.'}), 400\n",
    "\n",
    "        # Fetch the user from the database\n",
    "        user = User.query.filter_by(email=email).first()\n",
    "        if user:\n",
    "            # Check if the new password is different from the current password\n",
    "            if check_password_hash(user.password, new_password):\n",
    "                return jsonify({'success': False, 'message': 'New password must be different from the old password'})\n",
    "            \n",
    "            # Update the password\n",
    "            hashed_new_password = generate_password_hash(new_password, method='pbkdf2:sha256')\n",
    "            user.password = hashed_new_password\n",
    "            db.session.commit()\n",
    "            return jsonify({'success': True, 'message': 'Password successfully updated. You can now login with your new password.'})\n",
    "        else:\n",
    "            return jsonify({'success': False, 'message': 'User not found'})\n",
    "\n",
    "    # Ensure session email is set, otherwise redirect to request_email\n",
    "    if not session.get('resetEmail'):\n",
    "        return jsonify({'redirect': '/request_email', 'message': 'No email found in session. Please request an email first.'})\n",
    "\n",
    "    return render_template('reset_password.html')"
   ]
  },
  {
   "cell_type": "markdown",
   "metadata": {},
   "source": [
    "### 4.6 Main "
   ]
  },
  {
   "cell_type": "code",
   "execution_count": 74,
   "metadata": {},
   "outputs": [],
   "source": [
    "@app.route('/main', methods=['GET', 'POST']) # Forecaster Button \n",
    "def main():\n",
    "    # Data fetching\n",
    "    return render_template('main.html')"
   ]
  },
  {
   "cell_type": "code",
   "execution_count": 75,
   "metadata": {},
   "outputs": [],
   "source": [
    "@app.route('/logout', methods=['GET', 'POST']) # Logout Button\n",
    "def logout():\n",
    "    # Perform logout operations if needed\n",
    "    return redirect(url_for('login'))"
   ]
  },
  {
   "cell_type": "code",
   "execution_count": 76,
   "metadata": {},
   "outputs": [],
   "source": [
    "@app.route('/my_profile', methods=['GET', 'POST']) # My Profile Button\n",
    "def my_profile():\n",
    "    return render_template('my_profile.html')"
   ]
  },
  {
   "cell_type": "code",
   "execution_count": 77,
   "metadata": {},
   "outputs": [],
   "source": [
    "@app.route('/about_models', methods=['GET', 'POST']) # About Models Button\n",
    "def about_models():\n",
    "    return render_template('about_models.html')"
   ]
  },
  {
   "cell_type": "code",
   "execution_count": 78,
   "metadata": {},
   "outputs": [],
   "source": [
    "@app.route('/get_symbols', methods=['GET']) # Getter method to fetch symbols from the users account\n",
    "def get_symbols():\n",
    "    user_id = session.get('user_id')\n",
    "    if not user_id:\n",
    "        return jsonify({'success': False, 'message': 'User not logged in'}), 401\n",
    "\n",
    "    symbols = Symbol.query.filter_by(user_id=user_id).all()\n",
    "    symbol_list = [symbol.name for symbol in symbols]\n",
    "\n",
    "    return jsonify({'symbols': symbol_list}), 200"
   ]
  },
  {
   "cell_type": "code",
   "execution_count": 79,
   "metadata": {},
   "outputs": [],
   "source": [
    "def fetch_data(symbol, start_date, end_date): # fetch data based on user preference\n",
    "    data = None\n",
    "    try:\n",
    "        # Fetch historical price data\n",
    "        df = yf.download(symbol, start=start_date, end=end_date)\n",
    "\n",
    "        # Drop 'Adj Close' column if present\n",
    "        if 'Adj Close' in df.columns:\n",
    "            df.drop(columns=['Adj Close'], inplace=True)\n",
    "\n",
    "        # Store the dataframe with technical indicators\n",
    "        data = df\n",
    "\n",
    "    except Exception as e:\n",
    "        print(f\"Error fetching data for {symbol}: {e}\")\n",
    "\n",
    "    return data\n",
    "\n",
    "def check_symbol_existence(symbol): #check the existence of symbol from yahoo finance\n",
    "    try:\n",
    "        stock = yf.Ticker(symbol)\n",
    "        data = stock.history(period=\"1d\")\n",
    "        return not data.empty\n",
    "    except Exception as e:\n",
    "        print(f\"Error fetching data for symbol {symbol}: {e}\")\n",
    "        return False"
   ]
  },
  {
   "cell_type": "code",
   "execution_count": 80,
   "metadata": {},
   "outputs": [],
   "source": [
    "def convert_to_days(input_length):\n",
    "    days = 0\n",
    "    if input_length == '1_week':\n",
    "        days = 7\n",
    "    elif input_length == '1_month':\n",
    "        days = 30\n",
    "    elif input_length == '3_months':\n",
    "        days = 90\n",
    "    elif input_length == '6_months':\n",
    "        days = 180\n",
    "    elif input_length == '1_year':\n",
    "        days = 360\n",
    "    elif input_length == '2_years':\n",
    "        days = 720\n",
    "    elif input_length == '5_years':\n",
    "        days = 1800\n",
    "\n",
    "    return days"
   ]
  },
  {
   "cell_type": "code",
   "execution_count": 81,
   "metadata": {},
   "outputs": [],
   "source": [
    "@app.route('/add_symbol', methods=['POST'])\n",
    "def add_symbol(): # add symbol to the db\n",
    "    user_id = session.get('user_id')\n",
    "    if not user_id:\n",
    "        return jsonify({'success': False, 'message': 'User not logged in'}), 401\n",
    "\n",
    "    data = request.json\n",
    "    symbol_name = data.get('symbol')\n",
    "    if not symbol_name:\n",
    "        return jsonify({'success': False, 'message': 'Symbol name not provided'}), 400\n",
    "\n",
    "    if not check_symbol_existence(symbol_name):\n",
    "        return jsonify({'success': False, 'message': 'Symbol does not exist'}), 404\n",
    "\n",
    "    existing_symbol = Symbol.query.filter_by(name=symbol_name, user_id=user_id).first()\n",
    "    if existing_symbol:\n",
    "        return jsonify({'success': False, 'message': 'Symbol already added'}), 400\n",
    "    \n",
    "    new_symbol = Symbol(name=symbol_name, user_id=user_id)\n",
    "    db.session.add(new_symbol)\n",
    "    db.session.commit()\n",
    "\n",
    "    return jsonify({'success': True}), 200"
   ]
  },
  {
   "cell_type": "code",
   "execution_count": 82,
   "metadata": {},
   "outputs": [],
   "source": [
    "@app.route('/delete_symbol', methods=['POST'])\n",
    "def delete_symbol(): # delete symbol from the db\n",
    "    data = request.json\n",
    "    if not data or 'symbol' not in data:\n",
    "        return jsonify({'message': 'Invalid request'}), 400\n",
    "\n",
    "    symbol_name = data['symbol']\n",
    "    user_id = session.get('user_id')\n",
    "\n",
    "    # Find and delete the symbol\n",
    "    symbol = Symbol.query.filter_by(name=symbol_name, user_id=user_id).first()\n",
    "    if symbol:\n",
    "        db.session.delete(symbol)\n",
    "        db.session.commit()\n",
    "        return jsonify({'success': True}), 200\n",
    "    else:\n",
    "        return jsonify({'message': 'Symbol not found'}), 404"
   ]
  },
  {
   "cell_type": "code",
   "execution_count": 83,
   "metadata": {},
   "outputs": [],
   "source": [
    "@app.route('/predict', methods=['GET', 'POST'])\n",
    "def predict():\n",
    "    try:\n",
    "        data = request.json\n",
    "        symbol = data['symbol']\n",
    "        data_length = convert_to_days(data['data_length'])\n",
    "        forecast_days = convert_to_days(data['forecast_days'])\n",
    "        model_type = data['model_type']\n",
    "        #Set start and end date\n",
    "        now = datetime.now()\n",
    "        start_date =  (now - timedelta(days = data_length)).strftime(\"%Y-%m-%d\")\n",
    "        end_date = now.strftime(\"%Y-%m-%d\")\n",
    "\n",
    "        #Check if model already exists\n",
    "        model_obj = TrainedModels.load_trained_model(model_type=model_type, start_date=start_date, end_date=end_date, symbol=symbol)\n",
    "        if not model_obj:  # if the model is already trained avoid re-training it.\n",
    "            data = fetch_data(symbol, start_date, end_date)\n",
    "            model_obj = create_model(model_type, data, symbol)\n",
    "            model_obj.train()\n",
    "            # Create a new instance of Model\n",
    "            new_model = TrainedModels(symbol= symbol, model_type= model_type, start_date= start_date, end_date= end_date)\n",
    "            # Save the trained model to the database\n",
    "            new_model.save_trained_model(model_obj)\n",
    "            \n",
    "        # Forecast\n",
    "        plot_data = model_obj.forecast(forecast_days=forecast_days)\n",
    "        return jsonify({'plot': plot_data}), 200\n",
    "\n",
    "    except KeyError as e:\n",
    "        return jsonify({'error': f'Missing key: {e.args[0]}'}, 400)\n",
    "\n",
    "    except Exception as e:\n",
    "        return jsonify({'error': str(e)}, 500)"
   ]
  },
  {
   "cell_type": "markdown",
   "metadata": {},
   "source": [
    "### 4.7 My Profile"
   ]
  },
  {
   "cell_type": "markdown",
   "metadata": {},
   "source": [
    "### 4.8 About Models"
   ]
  },
  {
   "cell_type": "markdown",
   "metadata": {},
   "source": [
    "## 5 App Run"
   ]
  },
  {
   "cell_type": "code",
   "execution_count": 84,
   "metadata": {},
   "outputs": [
    {
     "name": "stdout",
     "output_type": "stream",
     "text": [
      "[<Model: AR - Symbol: AAPL - Start Date: 2023-08-12 - End Date: 2024-08-06>, <Model: AR - Symbol: AAPL - Start Date: 2024-07-07 - End Date: 2024-08-06>, <Model: AR - Symbol: AMZN - Start Date: 2024-07-07 - End Date: 2024-08-06>, <Model: AR - Symbol: AAPL - Start Date: 2024-05-08 - End Date: 2024-08-06>, <Model: AR - Symbol: AAPL - Start Date: 2024-02-08 - End Date: 2024-08-06>, <Model: AR - Symbol: AAPL - Start Date: 2022-08-17 - End Date: 2024-08-06>, <Model: AR - Symbol: AMZN - Start Date: 2024-02-08 - End Date: 2024-08-06>]\n",
      "[<User: abc@abc.com - Account Type: basic>]\n",
      " * Serving Flask app '__main__'\n",
      " * Debug mode: on\n"
     ]
    },
    {
     "name": "stderr",
     "output_type": "stream",
     "text": [
      "\u001b[31m\u001b[1mWARNING: This is a development server. Do not use it in a production deployment. Use a production WSGI server instead.\u001b[0m\n",
      " * Running on http://127.0.0.1:5000\n",
      "\u001b[33mPress CTRL+C to quit\u001b[0m\n"
     ]
    },
    {
     "name": "stderr",
     "output_type": "stream",
     "text": [
      "127.0.0.1 - - [06/Aug/2024 17:06:57] \"GET /main HTTP/1.1\" 200 -\n",
      "127.0.0.1 - - [06/Aug/2024 17:06:57] \"GET /get_symbols HTTP/1.1\" 200 -\n"
     ]
    },
    {
     "name": "stdout",
     "output_type": "stream",
     "text": [
      "AMZN 360 180 AR\n",
      "None\n",
      "Model does not exist, creating a new one...\n",
      "[*********************100%***********************]  1 of 1 completed\n",
      "Series is not stationary. Applying log transformation...\n",
      "Best R2 score: -1.6284\n",
      "Best parameters: trend=n, lags=4\n",
      "Model training successful\n",
      "Model saved to Trained Models table\n",
      "Forecasting...\n",
      "Forecast prices achieved\n",
      "Log transforation reversed\n"
     ]
    },
    {
     "name": "stderr",
     "output_type": "stream",
     "text": [
      "127.0.0.1 - - [06/Aug/2024 17:07:07] \"POST /predict HTTP/1.1\" 200 -\n"
     ]
    },
    {
     "name": "stdout",
     "output_type": "stream",
     "text": [
      "Forecast plot generated!\n"
     ]
    },
    {
     "name": "stderr",
     "output_type": "stream",
     "text": [
      "127.0.0.1 - - [06/Aug/2024 17:07:14] \"POST /add_symbol HTTP/1.1\" 200 -\n",
      "127.0.0.1 - - [06/Aug/2024 17:07:14] \"GET /get_symbols HTTP/1.1\" 200 -\n",
      "127.0.0.1 - - [06/Aug/2024 17:07:19] \"POST /delete_symbol HTTP/1.1\" 200 -\n",
      "127.0.0.1 - - [06/Aug/2024 17:07:19] \"GET /get_symbols HTTP/1.1\" 200 -\n"
     ]
    },
    {
     "name": "stdout",
     "output_type": "stream",
     "text": [
      "BERA.IS 720 30 AR\n",
      "None\n",
      "Model does not exist, creating a new one...\n",
      "[*********************100%***********************]  1 of 1 completed\n",
      "Series is not stationary. Applying log transformation...\n",
      "Best R2 score: -2.6797\n",
      "Best parameters: trend=c, lags=2\n",
      "Model training successful\n",
      "Model saved to Trained Models table\n",
      "Forecasting...\n",
      "Forecast prices achieved\n",
      "Log transforation reversed\n"
     ]
    },
    {
     "name": "stderr",
     "output_type": "stream",
     "text": [
      "127.0.0.1 - - [06/Aug/2024 17:07:29] \"POST /predict HTTP/1.1\" 200 -\n"
     ]
    },
    {
     "name": "stdout",
     "output_type": "stream",
     "text": [
      "Forecast plot generated!\n",
      "BERA.IS 720 90 AR\n",
      "<__main__.AR_model object at 0x137326d90>\n",
      "Forecasting...\n",
      "Forecast prices achieved\n",
      "Log transforation reversed\n"
     ]
    },
    {
     "name": "stderr",
     "output_type": "stream",
     "text": [
      "127.0.0.1 - - [06/Aug/2024 17:08:25] \"POST /predict HTTP/1.1\" 200 -\n"
     ]
    },
    {
     "name": "stdout",
     "output_type": "stream",
     "text": [
      "Forecast plot generated!\n"
     ]
    },
    {
     "name": "stderr",
     "output_type": "stream",
     "text": [
      "127.0.0.1 - - [06/Aug/2024 17:15:37] \"GET /main HTTP/1.1\" 200 -\n",
      "127.0.0.1 - - [06/Aug/2024 17:15:37] \"GET /get_symbols HTTP/1.1\" 200 -\n"
     ]
    },
    {
     "name": "stdout",
     "output_type": "stream",
     "text": [
      "AAPL 90 7 AR\n",
      "<__main__.AR_model object at 0x137d2e460>\n",
      "Forecasting...\n",
      "Forecast prices achieved\n",
      "Log transforation reversed\n"
     ]
    },
    {
     "name": "stderr",
     "output_type": "stream",
     "text": [
      "127.0.0.1 - - [06/Aug/2024 17:18:08] \"POST /predict HTTP/1.1\" 200 -\n"
     ]
    },
    {
     "name": "stdout",
     "output_type": "stream",
     "text": [
      "Forecast plot generated!\n"
     ]
    },
    {
     "name": "stderr",
     "output_type": "stream",
     "text": [
      "127.0.0.1 - - [06/Aug/2024 17:18:10] \"GET /main HTTP/1.1\" 200 -\n",
      "127.0.0.1 - - [06/Aug/2024 17:18:10] \"GET /get_symbols HTTP/1.1\" 200 -\n"
     ]
    },
    {
     "name": "stdout",
     "output_type": "stream",
     "text": [
      "BERA.IS 180 7 AR\n",
      "None\n",
      "Model does not exist, creating a new one...\n",
      "[*********************100%***********************]  1 of 1 completed\n",
      "Best R2 score: -0.8973\n",
      "Best parameters: trend=c, lags=3\n",
      "Model training successful\n",
      "Model saved to Trained Models table\n",
      "Forecasting...\n",
      "Forecast prices achieved\n"
     ]
    },
    {
     "name": "stderr",
     "output_type": "stream",
     "text": [
      "127.0.0.1 - - [06/Aug/2024 17:19:15] \"POST /predict HTTP/1.1\" 200 -\n"
     ]
    },
    {
     "name": "stdout",
     "output_type": "stream",
     "text": [
      "Forecast plot generated!\n"
     ]
    },
    {
     "name": "stderr",
     "output_type": "stream",
     "text": [
      "127.0.0.1 - - [06/Aug/2024 17:19:20] \"GET /my_profile HTTP/1.1\" 200 -\n",
      "127.0.0.1 - - [06/Aug/2024 17:19:23] \"GET /about_models HTTP/1.1\" 200 -\n",
      "127.0.0.1 - - [06/Aug/2024 17:20:39] \"GET /my_profile HTTP/1.1\" 200 -\n"
     ]
    }
   ],
   "source": [
    "if __name__ == '__main__':\n",
    "    with app.app_context():\n",
    "        db.create_all()\n",
    "    app.run(debug=True, use_reloader=False)"
   ]
  }
 ],
 "metadata": {
  "kernelspec": {
   "display_name": "Python 3",
   "language": "python",
   "name": "python3"
  },
  "language_info": {
   "codemirror_mode": {
    "name": "ipython",
    "version": 3
   },
   "file_extension": ".py",
   "mimetype": "text/x-python",
   "name": "python",
   "nbconvert_exporter": "python",
   "pygments_lexer": "ipython3",
   "version": "3.8.16"
  }
 },
 "nbformat": 4,
 "nbformat_minor": 2
}
