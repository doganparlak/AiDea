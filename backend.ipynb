{
 "cells": [
  {
   "cell_type": "markdown",
   "metadata": {},
   "source": [
    "## 1. Packages & Initializations"
   ]
  },
  {
   "cell_type": "code",
   "execution_count": 20,
   "metadata": {},
   "outputs": [],
   "source": [
    "from flask import Flask, request, jsonify, render_template, redirect, url_for, session\n",
    "from flask_sqlalchemy import SQLAlchemy\n",
    "from werkzeug.security import check_password_hash, generate_password_hash\n",
    "from abc import ABC, abstractmethod\n",
    "from statsmodels.tsa.ar_model import AutoReg\n",
    "from sklearn.model_selection import TimeSeriesSplit\n",
    "from sklearn.metrics import r2_score\n",
    "from itertools import product\n",
    "import pickle\n",
    "import yfinance as yf\n",
    "import pandas as pd\n",
    "import numpy as np\n",
    "import matplotlib.pyplot as plt\n",
    "import warnings\n",
    "from datetime import datetime, timedelta\n",
    "import string\n",
    "import random\n",
    "import re"
   ]
  },
  {
   "cell_type": "code",
   "execution_count": 21,
   "metadata": {},
   "outputs": [],
   "source": [
    "app = Flask(__name__)\n",
    "# Configure the SQLAlchemy part of the app instance\n",
    "app.config['SQLALCHEMY_DATABASE_URI'] = 'sqlite:///aidea.db'\n",
    "app.config['SQLALCHEMY_TRACK_MODIFICATIONS'] = False\n",
    "app.secret_key = 'Doggan98-ddd'\n",
    "# Create the SQLAlchemy db instance\n",
    "db = SQLAlchemy(app)"
   ]
  },
  {
   "cell_type": "markdown",
   "metadata": {},
   "source": [
    "## 2. Models"
   ]
  },
  {
   "cell_type": "markdown",
   "metadata": {},
   "source": [
    "### 2.0 Model Class Abstraction"
   ]
  },
  {
   "cell_type": "code",
   "execution_count": 22,
   "metadata": {},
   "outputs": [],
   "source": [
    "class Model(ABC):\n",
    "    def __init__(self, data):\n",
    "        self.data = data\n",
    "\n",
    "    @abstractmethod\n",
    "    def train(self):\n",
    "        \"\"\"\n",
    "        Abstract method to train the model.\n",
    "        \"\"\"\n",
    "        pass\n",
    "    \n",
    "    @abstractmethod\n",
    "    def forecast(self, forecast_days):\n",
    "        \"\"\"\n",
    "        Abstract method to make predictions using the trained model.\n",
    "        \"\"\"\n",
    "        pass"
   ]
  },
  {
   "cell_type": "markdown",
   "metadata": {},
   "source": [
    "### 2.1 AR Model"
   ]
  },
  {
   "cell_type": "code",
   "execution_count": 23,
   "metadata": {},
   "outputs": [],
   "source": [
    "class AR_model(Model):\n",
    "    def __init__(self, data):\n",
    "        super().__init__(data)\n",
    "        self.trained_model = None\n",
    "        self.model_type = 'AR'\n",
    "\n",
    "    def train(self):\n",
    "        # Handle NaNs\n",
    "        data = self.data.dropna(subset=['Close'])\n",
    "\n",
    "        # Define parameter grid for tuning\n",
    "        trends = ['n', 'c', 't', 'ct']\n",
    "        min_lag = 1\n",
    "        max_lag = len(data) \n",
    "        lags_range = range(min_lag, max_lag) \n",
    "\n",
    "        best_r2 = -float('inf') \n",
    "        best_params = None\n",
    "\n",
    "        # Perform grid search with cross-validation on the training set\n",
    "        # Choose the best params based on R2 score\n",
    "        n_splits = 3\n",
    "        tscv = TimeSeriesSplit(n_splits=n_splits)  # Time series cross-validation\n",
    "        warnings.filterwarnings(\"ignore\")\n",
    "        for trend, lags in product(trends, lags_range):\n",
    "            r2_sum = 0\n",
    "            for train_index, val_index in tscv.split(data):\n",
    "                train_split, val_split = data.iloc[train_index], data.iloc[val_index]\n",
    "                try:\n",
    "                    model = AutoReg(train_split['Close'].values, lags=lags, trend=trend).fit()\n",
    "                    predictions = model.predict(start=len(train_split), end=len(train_split) + len(val_split) - 1)\n",
    "                    r2 = r2_score(val_split['Close'], predictions)\n",
    "                    r2_sum += r2\n",
    "                except Exception as e:\n",
    "                    print(f\"Error for trend={trend}, lags={lags}: {e}\")\n",
    "                    continue\n",
    "            \n",
    "            # Average R2 score across folds\n",
    "            avg_r2 = r2_sum / n_splits\n",
    "            \n",
    "            # Update best parameters if better R2 found\n",
    "            if avg_r2 > best_r2:\n",
    "                best_r2 = avg_r2\n",
    "                best_params = (trend, lags)\n",
    "\n",
    "        best_trend, best_lags = best_params\n",
    "        \n",
    "        print(f\"Best R2 score: {best_r2:.4f}\")\n",
    "        print(f\"Best parameters: trend={best_trend}, lags={best_lags}\")\n",
    "        \n",
    "        # Fit the best model on the entire dataset \n",
    "        try:\n",
    "            self.trained_model = AutoReg(data['Close'].values, lags=best_lags, trend=best_trend).fit()\n",
    "        except Exception as e:\n",
    "            print(f'Model training failed with the error message: {e}')\n",
    "        \n",
    "        return self.trained_model\n",
    "    \n",
    "    def forecast(self, forecast_days):\n",
    "        #Forecast next forecast_period days\n",
    "        start = len(self.data)\n",
    "        end = start + forecast_days - 1\n",
    "        forecast_prices = self.trained_model.predict(start=start, end=end)\n",
    "        \n",
    "        return forecast_prices\n"
   ]
  },
  {
   "cell_type": "markdown",
   "metadata": {},
   "source": [
    "### Model Creation Method"
   ]
  },
  {
   "cell_type": "code",
   "execution_count": 24,
   "metadata": {},
   "outputs": [],
   "source": [
    "def create_model(model_type, data):\n",
    "    if model_type == 'AR':\n",
    "        return AR_model(data)"
   ]
  },
  {
   "cell_type": "markdown",
   "metadata": {},
   "source": [
    "## 3. Database for User and Model Tables"
   ]
  },
  {
   "cell_type": "markdown",
   "metadata": {},
   "source": [
    "### 3.1 Users Table"
   ]
  },
  {
   "cell_type": "code",
   "execution_count": 25,
   "metadata": {},
   "outputs": [],
   "source": [
    "class User(db.Model):\n",
    "    id = db.Column(db.Integer, primary_key=True, autoincrement=True)\n",
    "    email = db.Column(db.String(120), unique=True, nullable=False)\n",
    "    password = db.Column(db.String(255), nullable=False)\n",
    "    account_type = db.Column(db.String(20), nullable=False)  # 'basic' or 'premium'\n",
    "\n",
    "    def __repr__(self):\n",
    "        return f'<User {self.email}>'"
   ]
  },
  {
   "cell_type": "markdown",
   "metadata": {},
   "source": [
    "### 3.2 Trained Models Table"
   ]
  },
  {
   "cell_type": "code",
   "execution_count": 26,
   "metadata": {},
   "outputs": [],
   "source": [
    "class TrainedModels(db.Model):\n",
    "    id = db.Column(db.Integer, primary_key=True, autoincrement=True)\n",
    "    symbol = db.Column(db.String(20), nullable=False)\n",
    "    model_type = db.Column(db.String(50), nullable=False)\n",
    "    start_date = db.Column(db.String(50), nullable=False)\n",
    "    end_date = db.Column(db.String(50), nullable=False)  # Nullable if model is ongoing\n",
    "    trained_model = db.Column(db.Text)  # Serialized model data or file path\n",
    "\n",
    "    def save_trained_model(self, trained_model):\n",
    "        \"\"\"\n",
    "        Save the trained model to the database.\n",
    "        \"\"\"\n",
    "        self.trained_model = pickle.dumps(trained_model)\n",
    "        db.session.commit()\n",
    "    \n",
    "    def load_trained_model(self, model_type, start_date, end_date, symbol):\n",
    "        model = TrainedModels.query.filter_by(\n",
    "                    model_type=model_type,\n",
    "                    start_date=start_date,\n",
    "                    end_date=end_date,\n",
    "                    symbol=symbol\n",
    "                ).first()\n",
    "        if model:\n",
    "            return pickle.loads(model.trained_model)\n",
    "        else:\n",
    "            return None"
   ]
  },
  {
   "cell_type": "markdown",
   "metadata": {},
   "source": [
    "### 3.3 Temporary Password"
   ]
  },
  {
   "cell_type": "code",
   "execution_count": 27,
   "metadata": {},
   "outputs": [],
   "source": [
    "class TemporaryPassword(db.Model):\n",
    "    email = db.Column(db.String(120), primary_key=True, nullable=False)\n",
    "    temp_password = db.Column(db.String(255), nullable=False)"
   ]
  },
  {
   "cell_type": "markdown",
   "metadata": {},
   "source": [
    "## 4. Fetch Historical Data"
   ]
  },
  {
   "cell_type": "code",
   "execution_count": 28,
   "metadata": {},
   "outputs": [],
   "source": [
    "def fetch_data(symbol, start_date, end_date):\n",
    "    data = None\n",
    "    try:\n",
    "        # Fetch historical price data\n",
    "        df = yf.download(symbol, start=start_date, end=end_date)\n",
    "\n",
    "        # Drop 'Adj Close' column if present\n",
    "        if 'Adj Close' in df.columns:\n",
    "            df.drop(columns=['Adj Close'], inplace=True)\n",
    "\n",
    "        # Store the dataframe with technical indicators\n",
    "        data = df\n",
    "\n",
    "    except Exception as e:\n",
    "        print(f\"Error fetching data for {symbol}: {e}\")\n",
    "\n",
    "    return data"
   ]
  },
  {
   "cell_type": "markdown",
   "metadata": {},
   "source": [
    "## 5. PAGES"
   ]
  },
  {
   "cell_type": "code",
   "execution_count": 29,
   "metadata": {},
   "outputs": [],
   "source": [
    "@app.route('/')\n",
    "def index():\n",
    "    return render_template('login.html')"
   ]
  },
  {
   "cell_type": "markdown",
   "metadata": {},
   "source": [
    "### 5.1 Login "
   ]
  },
  {
   "cell_type": "code",
   "execution_count": 30,
   "metadata": {},
   "outputs": [],
   "source": [
    "@app.route('/login', methods=['GET', 'POST'])\n",
    "def login():\n",
    "    if request.method == 'GET':\n",
    "        # Serve the signup page\n",
    "        return render_template('login.html')\n",
    "\n",
    "    if request.method == 'POST':\n",
    "        data = request.json\n",
    "        email = data.get('email')\n",
    "        password = data.get('password')\n",
    "        \n",
    "        # Query the user from the database\n",
    "        user = User.query.filter_by(email=email).first()\n",
    "\n",
    "        if user and check_password_hash(user.password, password): # MAIN PAGE\n",
    "            # If user exists and password is correct, redirect to the main page\n",
    "            return jsonify({'message': 'Login successful!', 'redirect': url_for('main')}), 200\n",
    "        else:\n",
    "            # If credentials do not match, return an error\n",
    "            return jsonify({'message': 'Invalid credentials'}), 401\n"
   ]
  },
  {
   "cell_type": "markdown",
   "metadata": {},
   "source": [
    "### 5.2 Signup"
   ]
  },
  {
   "cell_type": "code",
   "execution_count": 31,
   "metadata": {},
   "outputs": [],
   "source": [
    "def is_valid_password(password):\n",
    "    \"\"\"Check if the password is valid based on the criteria.\"\"\"\n",
    "    if len(password) < 8: # Check password length\n",
    "        return False\n",
    "    if not re.search(r'[A-Z]', password):  # Check for uppercase letter\n",
    "        return False\n",
    "    if not re.search(r'[a-z]', password):  # Check for lowercase letter\n",
    "        return False\n",
    "    if not re.search(r'[0-9]', password):  # Check for number\n",
    "        return False\n",
    "    return True"
   ]
  },
  {
   "cell_type": "code",
   "execution_count": 32,
   "metadata": {},
   "outputs": [],
   "source": [
    "@app.route('/signup', methods=['GET', 'POST'])\n",
    "def signup():\n",
    "    if request.method == 'GET':\n",
    "        # Serve the signup page\n",
    "        return render_template('signup.html')\n",
    "    \n",
    "    if request.method == 'POST':\n",
    "        data = request.json\n",
    "        if not data:\n",
    "            return jsonify({'message': 'No data provided'}), 400\n",
    "        \n",
    "        email = data.get('email')\n",
    "        password = data.get('password')\n",
    "        password_re = data.get('password_re')\n",
    "        \n",
    "        # Check if all fields are present\n",
    "        if not email or not password or not password_re:\n",
    "            return jsonify({'message': 'All fields are required.'}), 400\n",
    "\n",
    "        # Check if email already exists\n",
    "        existing_user = User.query.filter_by(email=email).first()\n",
    "        if existing_user:\n",
    "            return jsonify({'message': 'User already exists.'}), 400\n",
    "\n",
    "        # Check if passwords match\n",
    "        if password != password_re:\n",
    "            return jsonify({'message': 'Passwords do not match.'}), 400\n",
    "        \n",
    "        # Validate password strength\n",
    "        if not is_valid_password(password):\n",
    "            return jsonify({'message': 'Password must be at least 8 characters long, include uppercase letters, lowercase letters, and numbers.'}), 400\n",
    "        \n",
    "        # Create new user\n",
    "        hashed_password = generate_password_hash(password, method='pbkdf2:sha256')\n",
    "        new_user = User(email=email, password=hashed_password, account_type='basic')\n",
    "\n",
    "        try:\n",
    "            db.session.add(new_user)\n",
    "            db.session.commit()\n",
    "            return jsonify({'redirect': url_for('login')}), 200\n",
    "        except Exception as e:\n",
    "            return jsonify({'message': 'Error creating user.'}), 500\n"
   ]
  },
  {
   "cell_type": "markdown",
   "metadata": {},
   "source": [
    "### 5.3 Request E-mail"
   ]
  },
  {
   "cell_type": "code",
   "execution_count": 33,
   "metadata": {},
   "outputs": [],
   "source": [
    "def generate_temporary_password(length=8):\n",
    "    letters_and_digits = string.ascii_letters + string.digits\n",
    "    return ''.join(random.choice(letters_and_digits) for i in range(length))\n",
    "\n",
    "def send_email(email, temporary_password):\n",
    "    # Placeholder function to simulate sending an email\n",
    "    # Implement actual email sending logic here\n",
    "    print(f\"Sending temporary password to {email}: {temporary_password}\")"
   ]
  },
  {
   "cell_type": "code",
   "execution_count": 34,
   "metadata": {},
   "outputs": [],
   "source": [
    "@app.route('/request_email', methods=['GET', 'POST'])\n",
    "def request_email():\n",
    "    if request.method == 'POST':\n",
    "        data = request.get_json()\n",
    "        email = data.get('email')\n",
    "        \n",
    "        # Check if the email exists in the User database\n",
    "        user = User.query.filter_by(email=email).first()\n",
    "        if user:  \n",
    "            # Generate a temporary password\n",
    "            temp_password = generate_temporary_password()\n",
    "            # Check if a temporary password entry already exists for the email\n",
    "            temp_password_entry = TemporaryPassword.query.filter_by(email=email).first()\n",
    "            if temp_password_entry:\n",
    "                db.session.delete(temp_password_entry)\n",
    "                db.session.commit()\n",
    "\n",
    "            temp_password_entry = TemporaryPassword(email=email, temp_password=temp_password)\n",
    "            db.session.add(temp_password_entry)\n",
    "            db.session.commit()\n",
    "            \n",
    "            # Send a temporary password\n",
    "            send_email(email, temp_password)\n",
    "\n",
    "            # Store the email in a session to use in forgot password section\n",
    "            session['resetEmail'] = email\n",
    "            \n",
    "            return jsonify({'success': True, 'message': 'Temporary password sent to your email'})\n",
    "        else:\n",
    "            return jsonify({'success': False, 'message': 'Email not found'})\n",
    "\n",
    "    return render_template('request_email.html')\n"
   ]
  },
  {
   "cell_type": "markdown",
   "metadata": {},
   "source": [
    "### 5.4 Forgot Passward"
   ]
  },
  {
   "cell_type": "code",
   "execution_count": 35,
   "metadata": {},
   "outputs": [],
   "source": [
    "@app.route('/forgot_password', methods=['GET', 'POST'])\n",
    "def forgot_password():\n",
    "    if request.method == 'POST':\n",
    "        data = request.get_json()\n",
    "        temp_password = data.get('tempPassword')\n",
    "        \n",
    "        #Retrieve email from session\n",
    "        email = session.get('resetEmail')\n",
    "\n",
    "        if not email:\n",
    "            return jsonify({'success': False, 'message': 'No email found in session. Please request an email first.'})\n",
    "\n",
    "        # Check the temporary password in the database\n",
    "        temp_password_entry = TemporaryPassword.query.filter_by(email=email, temp_password=temp_password).first()\n",
    "        if temp_password_entry:\n",
    "            # Temporary password matches\n",
    "            return jsonify({'success': True, 'message': 'Temporary password verified. Proceed to reset password.'})\n",
    "        else:\n",
    "            return jsonify({'success': False, 'message': 'Invalid temporary password'})\n",
    "\n",
    "    return render_template('forgot_password.html')"
   ]
  },
  {
   "cell_type": "markdown",
   "metadata": {},
   "source": [
    "### 5.5 Reset Password"
   ]
  },
  {
   "cell_type": "code",
   "execution_count": 36,
   "metadata": {},
   "outputs": [],
   "source": [
    "@app.route('/reset_password', methods=['GET', 'POST'])\n",
    "def reset_password():\n",
    "    if request.method == 'POST':\n",
    "        data = request.get_json()\n",
    "        new_password = data.get('newPassword')\n",
    "        new_password_re = data.get('newPassword_re')\n",
    "\n",
    "        # Retrieve the email from session\n",
    "        email = session.get('resetEmail')\n",
    "\n",
    "        if not email:\n",
    "            return jsonify({'success': False, 'message': 'No email found in session. Please request an email first.'})\n",
    "\n",
    "        if new_password != new_password_re:\n",
    "            return jsonify({'success': False, 'message': 'Passwords do not match'})\n",
    "        \n",
    "        # Validate password strength\n",
    "        if not is_valid_password(new_password):\n",
    "            return jsonify({'message': 'Password must be at least 8 characters long, include uppercase letters, lowercase letters, and numbers.'}), 400\n",
    "\n",
    "        # Fetch the user from the database\n",
    "        user = User.query.filter_by(email=email).first()\n",
    "        if user:\n",
    "            # Check if the new password is different from the current password\n",
    "            if check_password_hash(user.password, new_password):\n",
    "                return jsonify({'success': False, 'message': 'New password must be different from the old password'})\n",
    "            \n",
    "            # Update the password\n",
    "            hashed_new_password = generate_password_hash(new_password, method='pbkdf2:sha256')\n",
    "            user.password = hashed_new_password\n",
    "            db.session.commit()\n",
    "            return jsonify({'success': True, 'message': 'Password successfully updated. You can now login with your new password.'})\n",
    "        else:\n",
    "            return jsonify({'success': False, 'message': 'User not found'})\n",
    "\n",
    "    # Ensure session email is set, otherwise redirect to request_email\n",
    "    if not session.get('resetEmail'):\n",
    "        return jsonify({'redirect': '/request_email', 'message': 'No email found in session. Please request an email first.'})\n",
    "\n",
    "    return render_template('reset_password.html')"
   ]
  },
  {
   "cell_type": "markdown",
   "metadata": {},
   "source": [
    "### 5.6 Main "
   ]
  },
  {
   "cell_type": "code",
   "execution_count": 37,
   "metadata": {},
   "outputs": [],
   "source": [
    "@app.route('/main', methods=['GET', 'POST'])\n",
    "def main():\n",
    "    # Data fetching\n",
    "    return render_template('main.html')\n",
    "    try:\n",
    "        data = request.json\n",
    "        symbol = data['symbol']\n",
    "        data_length = data['data_length']\n",
    "        forecast_days = data['forecast_days']\n",
    "        model_type = data['model_type']\n",
    "    \n",
    "        #Set start and end date\n",
    "        now = datetime.now()\n",
    "        start_date =  (now - timedelta(days = data_length)).strftime(\"%Y-%m-%d\")\n",
    "        end_date = now.strftime(\"%Y-%m-%d\")\n",
    "\n",
    "        #Check if model already exists\n",
    "        model = TrainedModels.load_trained_model(model_type=model_type, start_date=start_date, end_date=end_date, symbol=symbol)\n",
    "        forecast_prices = None\n",
    "        if model:  # if the model is already trained avoid re-training it.\n",
    "            trained_model = model\n",
    "            # Forecast\n",
    "            forecast_prices = trained_model.forecast(forecast_days = forecast_days)\n",
    "        else:\n",
    "            data = fetch_data(symbol, start_date, end_date)\n",
    "            model = create_model(model_type, data)\n",
    "            trained_model = model.train()\n",
    "            # Create a new instance of Model\n",
    "            new_model = TrainedModels(symbol= symbol, model_type= model_type, start_date= start_date, end_date= end_date)\n",
    "            # Save the trained model to the database\n",
    "            new_model.save_trained_model(trained_model)\n",
    "            # Commit the changes\n",
    "            db.session.add(new_model)\n",
    "            db.session.commit()\n",
    "            # Forecast\n",
    "            forecast_prices = trained_model.forecast(forecast_days = forecast_days)\n",
    "\n",
    "        # Example: Data to send to Firebase\n",
    "        processed_data = {\n",
    "            'forecast_prices': forecast_prices,\n",
    "            'processed': True\n",
    "        }\n",
    "\n",
    "        return jsonify(processed_data), 200 \n",
    "\n",
    "    except KeyError as e:\n",
    "        return jsonify({'error': f'Missing key: {e.args[0]}'}, 400)\n",
    "\n",
    "    except Exception as e:\n",
    "        return jsonify({'error': str(e)}, 500)"
   ]
  },
  {
   "cell_type": "code",
   "execution_count": null,
   "metadata": {},
   "outputs": [],
   "source": [
    "if __name__ == '__main__':\n",
    "    with app.app_context():\n",
    "        db.create_all()\n",
    "    app.run(debug=True, use_reloader=False)"
   ]
  }
 ],
 "metadata": {
  "kernelspec": {
   "display_name": "Python 3",
   "language": "python",
   "name": "python3"
  },
  "language_info": {
   "codemirror_mode": {
    "name": "ipython",
    "version": 3
   },
   "file_extension": ".py",
   "mimetype": "text/x-python",
   "name": "python",
   "nbconvert_exporter": "python",
   "pygments_lexer": "ipython3",
   "version": "3.12.3"
  }
 },
 "nbformat": 4,
 "nbformat_minor": 2
}
