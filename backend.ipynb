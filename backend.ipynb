{
 "cells": [
  {
   "cell_type": "markdown",
   "metadata": {},
   "source": [
    "## 1. Packages & Initializations"
   ]
  },
  {
   "cell_type": "code",
   "execution_count": 152,
   "metadata": {},
   "outputs": [],
   "source": [
    "from flask import Flask, request, jsonify, render_template, redirect, url_for, session\n",
    "from flask_sqlalchemy import SQLAlchemy\n",
    "from werkzeug.security import check_password_hash, generate_password_hash\n",
    "from abc import ABC, abstractmethod\n",
    "from statsmodels.tsa.stattools import adfuller\n",
    "from statsmodels.tsa.ar_model import AutoReg\n",
    "from sklearn.model_selection import TimeSeriesSplit\n",
    "from statsmodels.tsa.seasonal import seasonal_decompose\n",
    "from sklearn.metrics import r2_score\n",
    "from itertools import product\n",
    "import pickle\n",
    "import yfinance as yf\n",
    "import pandas as pd\n",
    "import numpy as np\n",
    "import matplotlib.pyplot as plt\n",
    "import warnings\n",
    "from datetime import datetime, timedelta\n",
    "import string\n",
    "import random\n",
    "import re"
   ]
  },
  {
   "cell_type": "code",
   "execution_count": 115,
   "metadata": {},
   "outputs": [],
   "source": [
    "app = Flask(__name__)\n",
    "# Configure the SQLAlchemy part of the app instance\n",
    "app.config['SQLALCHEMY_DATABASE_URI'] = 'sqlite:///aidea.db'\n",
    "app.config['SQLALCHEMY_TRACK_MODIFICATIONS'] = False\n",
    "app.secret_key = 'Doggan98-ddd'\n",
    "# Create the SQLAlchemy db instance\n",
    "db = SQLAlchemy(app)"
   ]
  },
  {
   "cell_type": "markdown",
   "metadata": {},
   "source": [
    "## 2. Models"
   ]
  },
  {
   "cell_type": "markdown",
   "metadata": {},
   "source": [
    "### 2.0 Model Class Abstraction"
   ]
  },
  {
   "cell_type": "code",
   "execution_count": 261,
   "metadata": {},
   "outputs": [],
   "source": [
    "class Model(ABC):\n",
    "    def __init__(self, data, volume, symbol_name):\n",
    "        self.data = data\n",
    "        self.volume = volume\n",
    "        self.symbol_name = symbol_name\n",
    "\n",
    "    @abstractmethod\n",
    "    def train(self):\n",
    "        \"\"\"\n",
    "        Abstract method to train the model.\n",
    "        \"\"\"\n",
    "        pass\n",
    "    \n",
    "    @abstractmethod\n",
    "    def forecast(self, forecast_days):\n",
    "        \"\"\"\n",
    "        Abstract method to make predictions using the trained model.\n",
    "        \"\"\"\n",
    "        pass"
   ]
  },
  {
   "cell_type": "markdown",
   "metadata": {},
   "source": [
    "### 2.1 AR Model"
   ]
  },
  {
   "cell_type": "code",
   "execution_count": 291,
   "metadata": {},
   "outputs": [],
   "source": [
    "class AR_model(Model):\n",
    "    def __init__(self, data, symbol_name):\n",
    "        super().__init__(data = data['Close'], volume = data['Volume'], symbol_name = symbol_name)\n",
    "        self.trained_model = None\n",
    "        self.model_type = 'Auto Regressive'\n",
    "\n",
    "    def check_stationarity(self, series, alpha=0.05):\n",
    "        series = series.dropna()\n",
    "        result = adfuller(series)\n",
    "        p_value = result[1]\n",
    "        return p_value < alpha\n",
    "\n",
    "    def log_transform(self, series):\n",
    "        return np.log(series).dropna()\n",
    "    \n",
    "    def train(self):\n",
    "        # Handle NaNs\n",
    "        data = self.data.dropna()\n",
    "\n",
    "        # Check stationarity and apply log transformation if needed\n",
    "        if not self.check_stationarity(data):\n",
    "            print(\"Series is not stationary. Applying log transformation...\")\n",
    "            data= self.log_transform(data)\n",
    "                \n",
    "        # Define parameter grid for tuning\n",
    "        trends = ['n', 'c', 't', 'ct']\n",
    "        min_lag = 1\n",
    "        max_lag = int(np.sqrt(len(data))) if len(data) >= 20 else len(data) // 2  # Ensure a practical upper bound for small datasets\n",
    "        lags_range = range(min_lag, max_lag + 1) \n",
    "\n",
    "        best_r2 = -float('inf') \n",
    "        best_params = None\n",
    "\n",
    "        # Perform grid search with cross-validation on the training set\n",
    "        # Choose the best params based on R2 score\n",
    "        n_splits = 3\n",
    "        tscv = TimeSeriesSplit(n_splits=n_splits)  # Time series cross-validation\n",
    "        warnings.filterwarnings(\"ignore\")\n",
    "        for trend, lags in product(trends, lags_range):\n",
    "            r2_sum = 0\n",
    "            for train_index, val_index in tscv.split(data):\n",
    "                train_split, val_split = data.iloc[train_index], data.iloc[val_index]\n",
    "                try:\n",
    "                    model = AutoReg(train_split.values, lags=lags, trend=trend).fit()\n",
    "                    predictions = model.predict(start=len(train_split), end=len(train_split) + len(val_split) - 1)\n",
    "                    r2 = r2_score(val_split, predictions)\n",
    "                    r2_sum += r2\n",
    "                except Exception as e:\n",
    "                    print(f\"Error for trend={trend}, lags={lags}: {e}\")\n",
    "                    continue\n",
    "            \n",
    "            # Average R2 score across folds\n",
    "            avg_r2 = r2_sum / n_splits\n",
    "            \n",
    "            # Update best parameters if better R2 found\n",
    "            if avg_r2 > best_r2:\n",
    "                best_r2 = avg_r2\n",
    "                best_params = (trend, lags)\n",
    "\n",
    "        best_trend, best_lags = best_params\n",
    "        \n",
    "        print(f\"Best R2 score: {best_r2:.4f}\")\n",
    "        print(f\"Best parameters: trend={best_trend}, lags={best_lags}\")\n",
    "        \n",
    "        # Fit the best model on the entire dataset \n",
    "        try:\n",
    "            self.trained_model = AutoReg(data.values, lags=best_lags, trend=best_trend).fit()\n",
    "        except Exception as e:\n",
    "            print(f'Model training failed with the error message: {e}')\n",
    "        \n",
    "        return self.trained_model\n",
    "    \n",
    "    def forecast(self, forecast_days):\n",
    "        #Forecast next forecast_period days\n",
    "        start = len(self.data)\n",
    "        end = start + forecast_days - 1\n",
    "        forecast_prices = self.trained_model.predict(start=start, end=end)\n",
    "\n",
    "       # Optional: Reverse log transformation if applied\n",
    "        if self.data.apply(lambda x: x > 0).all():\n",
    "            forecast_prices = np.exp(forecast_prices)\n",
    "\n",
    "        # Plot the data\n",
    "        # Create date range for forecasted data\n",
    "        forecast_dates = pd.date_range(start=self.data.index[-1] + pd.Timedelta(days=1), periods=forecast_days, freq='D')\n",
    "\n",
    "        # Create figure and axis\n",
    "        fig, (ax1, ax2) = plt.subplots(nrows=2, sharex=True, figsize=(14, 7), gridspec_kw={'height_ratios': [3, 1]})\n",
    "\n",
    "        # Plot the price data\n",
    "        ax1.plot(self.data.index, self.data, label='Historical Data', color='black')\n",
    "        ax1.plot(forecast_dates, forecast_prices, label='Forecasted Prices', color='red')\n",
    "        ax1.set_title(f'Model: {self.model_type} \\n Symbol: {self.symbol_name}', weight = 'bold')\n",
    "        ax1.set_ylabel('Close Price', weight = 'bold')\n",
    "        ax1.legend(loc='upper left')\n",
    "        ax1.grid(True)\n",
    "\n",
    "        # Plot the volume data\n",
    "        volume_colors = np.where(self.data.diff() >= 0, 'green', 'red')\n",
    "        ax2.bar(self.data.index, self.volume, color=volume_colors, alpha=0.6)\n",
    "        ax2.set_ylabel('Volume', weight = 'bold')\n",
    "        ax2.set_xlabel('Date', weight = 'bold')\n",
    "        ax2.grid(True)\n",
    "\n",
    "        # Show plot\n",
    "        fig.tight_layout()\n",
    "        plt.show()\n",
    "\n",
    "        '''\n",
    "        # Save the plot to a BytesIO object\n",
    "        buf = BytesIO()\n",
    "        plt.savefig(buf, format='png')\n",
    "        buf.seek(0)\n",
    "        plt.close()\n",
    "\n",
    "        # Return the plot as a base64-encoded string\n",
    "        return base64.b64encode(buf.getvalue()).decode('utf-8')\n",
    "        '''\n",
    "\n"
   ]
  },
  {
   "cell_type": "code",
   "execution_count": 295,
   "metadata": {},
   "outputs": [
    {
     "name": "stderr",
     "output_type": "stream",
     "text": [
      "[*********************100%%**********************]  1 of 1 completed"
     ]
    },
    {
     "name": "stderr",
     "output_type": "stream",
     "text": [
      "\n"
     ]
    }
   ],
   "source": [
    "symbol_name = 'GSRAY.IS'\n",
    "data_length = 365\n",
    "forecast_days = 30\n",
    "now = datetime.now()\n",
    "start_date =  (now - timedelta(days = data_length)).strftime(\"%Y-%m-%d\")\n",
    "end_date = now.strftime(\"%Y-%m-%d\")\n",
    "data = fetch_data(symbol_name, start_date, end_date)"
   ]
  },
  {
   "cell_type": "code",
   "execution_count": 296,
   "metadata": {},
   "outputs": [],
   "source": [
    "ar_model = AR_model(data=data, symbol_name = symbol_name)"
   ]
  },
  {
   "cell_type": "code",
   "execution_count": 297,
   "metadata": {},
   "outputs": [
    {
     "name": "stdout",
     "output_type": "stream",
     "text": [
      "Series is not stationary. Applying log transformation...\n",
      "Best R2 score: -1.3126\n",
      "Best parameters: trend=c, lags=1\n"
     ]
    },
    {
     "data": {
      "text/plain": [
       "<statsmodels.tsa.ar_model.AutoRegResultsWrapper at 0x17bda866bd0>"
      ]
     },
     "execution_count": 297,
     "metadata": {},
     "output_type": "execute_result"
    }
   ],
   "source": [
    "ar_model.train()"
   ]
  },
  {
   "cell_type": "code",
   "execution_count": 298,
   "metadata": {},
   "outputs": [
    {
     "data": {
      "image/png": "[encoded data removed]",
      "text/plain": [
       "<Figure size 1400x700 with 2 Axes>"
      ]
     },
     "metadata": {},
     "output_type": "display_data"
    }
   ],
   "source": [
    "ar_model.forecast(forecast_days = 60)"
   ]
  },
  {
   "cell_type": "markdown",
   "metadata": {},
   "source": [
    "### Model Creation Method"
   ]
  },
  {
   "cell_type": "code",
   "execution_count": 118,
   "metadata": {},
   "outputs": [],
   "source": [
    "def create_model(model_type, data):\n",
    "    if model_type == 'AR':\n",
    "        return AR_model(data)"
   ]
  },
  {
   "cell_type": "markdown",
   "metadata": {},
   "source": [
    "## 3. Database for User and Model Tables"
   ]
  },
  {
   "cell_type": "markdown",
   "metadata": {},
   "source": [
    "### 3.1 Users Table"
   ]
  },
  {
   "cell_type": "code",
   "execution_count": 119,
   "metadata": {},
   "outputs": [],
   "source": [
    "class User(db.Model):\n",
    "    id = db.Column(db.Integer, primary_key=True, autoincrement=True)\n",
    "    email = db.Column(db.String(120), unique=True, nullable=False)\n",
    "    password = db.Column(db.String(255), nullable=False)\n",
    "    account_type = db.Column(db.String(20), nullable=False)  # 'basic' or 'premium'\n",
    "    symbols = db.relationship('Symbol', backref='user', lazy=True)\n",
    "\n",
    "    def __repr__(self):\n",
    "        return f'<User {self.email}>'"
   ]
  },
  {
   "cell_type": "markdown",
   "metadata": {},
   "source": [
    "### 3.2 Symbols Table"
   ]
  },
  {
   "cell_type": "code",
   "execution_count": 120,
   "metadata": {},
   "outputs": [],
   "source": [
    "class Symbol(db.Model):\n",
    "    id = db.Column(db.Integer, primary_key=True, autoincrement=True)\n",
    "    name = db.Column(db.String(50), nullable=False, unique=True)\n",
    "    user_id = db.Column(db.Integer, db.ForeignKey('user.id'), nullable=False)\n",
    "\n",
    "    def __repr__(self):\n",
    "        return f'<Symbol {self.name}>'"
   ]
  },
  {
   "cell_type": "markdown",
   "metadata": {},
   "source": [
    "### 3.3 Trained Models Table"
   ]
  },
  {
   "cell_type": "code",
   "execution_count": 121,
   "metadata": {},
   "outputs": [],
   "source": [
    "class TrainedModels(db.Model):\n",
    "    id = db.Column(db.Integer, primary_key=True, autoincrement=True)\n",
    "    symbol = db.Column(db.String(20), nullable=False)\n",
    "    model_type = db.Column(db.String(50), nullable=False)\n",
    "    start_date = db.Column(db.String(50), nullable=False)\n",
    "    end_date = db.Column(db.String(50), nullable=False)  # Nullable if model is ongoing\n",
    "    trained_model = db.Column(db.Text)  # Serialized model data or file path\n",
    "\n",
    "    def save_trained_model(self, trained_model):\n",
    "        \"\"\"\n",
    "        Save the trained model to the database.\n",
    "        \"\"\"\n",
    "        self.trained_model = pickle.dumps(trained_model)\n",
    "        db.session.commit()\n",
    "    \n",
    "    def load_trained_model(self, model_type, start_date, end_date, symbol):\n",
    "        model = TrainedModels.query.filter_by(\n",
    "                    model_type=model_type,\n",
    "                    start_date=start_date,\n",
    "                    end_date=end_date,\n",
    "                    symbol=symbol\n",
    "                ).first()\n",
    "        if model:\n",
    "            return pickle.loads(model.trained_model)\n",
    "        else:\n",
    "            return None"
   ]
  },
  {
   "cell_type": "markdown",
   "metadata": {},
   "source": [
    "### 3.4 Temporary Password"
   ]
  },
  {
   "cell_type": "code",
   "execution_count": 122,
   "metadata": {},
   "outputs": [],
   "source": [
    "class TemporaryPassword(db.Model):\n",
    "    email = db.Column(db.String(120), primary_key=True, nullable=False)\n",
    "    temp_password = db.Column(db.String(255), nullable=False)"
   ]
  },
  {
   "cell_type": "markdown",
   "metadata": {},
   "source": [
    "## 4. PAGES"
   ]
  },
  {
   "cell_type": "code",
   "execution_count": 123,
   "metadata": {},
   "outputs": [],
   "source": [
    "@app.route('/')\n",
    "def index():\n",
    "    return render_template('login.html')"
   ]
  },
  {
   "cell_type": "markdown",
   "metadata": {},
   "source": [
    "### 4.1 Login "
   ]
  },
  {
   "cell_type": "code",
   "execution_count": 124,
   "metadata": {},
   "outputs": [],
   "source": [
    "@app.route('/login', methods=['GET', 'POST'])\n",
    "def login():\n",
    "\n",
    "    if request.method == 'GET':\n",
    "        # Serve the signup and forgot password page\n",
    "        return render_template('login.html')\n",
    "    \n",
    "    if request.method == 'POST':\n",
    "        data = request.json\n",
    "        email = data.get('email')\n",
    "        password = data.get('password')\n",
    "        \n",
    "        user = User.query.filter_by(email=email).first()\n",
    "\n",
    "        if user and check_password_hash(user.password, password):\n",
    "            # Store user ID in session\n",
    "            session['user_id'] = user.id\n",
    "            return jsonify({'message': 'Login successful!', 'redirect': url_for('main')}), 200\n",
    "        else:\n",
    "            return jsonify({'message': 'Invalid credentials'}), 401"
   ]
  },
  {
   "cell_type": "markdown",
   "metadata": {},
   "source": [
    "### 4.2 Signup"
   ]
  },
  {
   "cell_type": "code",
   "execution_count": 125,
   "metadata": {},
   "outputs": [],
   "source": [
    "def is_valid_password(password):\n",
    "    \"\"\"Check if the password is valid based on the criteria.\"\"\"\n",
    "    if len(password) < 8: # Check password length\n",
    "        return False\n",
    "    if not re.search(r'[A-Z]', password):  # Check for uppercase letter\n",
    "        return False\n",
    "    if not re.search(r'[a-z]', password):  # Check for lowercase letter\n",
    "        return False\n",
    "    if not re.search(r'[0-9]', password):  # Check for number\n",
    "        return False\n",
    "    return True"
   ]
  },
  {
   "cell_type": "code",
   "execution_count": 126,
   "metadata": {},
   "outputs": [],
   "source": [
    "@app.route('/signup', methods=['GET', 'POST'])\n",
    "def signup():\n",
    "    if request.method == 'GET':\n",
    "        # Serve the signup page\n",
    "        return render_template('signup.html')\n",
    "    \n",
    "    if request.method == 'POST':\n",
    "        data = request.json\n",
    "        if not data:\n",
    "            return jsonify({'message': 'No data provided'}), 400\n",
    "        \n",
    "        email = data.get('email')\n",
    "        password = data.get('password')\n",
    "        password_re = data.get('password_re')\n",
    "        \n",
    "        print('here')\n",
    "        # Check if all fields are present\n",
    "        if not email or not password or not password_re:\n",
    "            return jsonify({'message': 'All fields are required.'}), 400\n",
    "\n",
    "        # Check if email already exists\n",
    "        existing_user = User.query.filter_by(email=email).first()\n",
    "        if existing_user:\n",
    "            return jsonify({'message': 'User already exists.'}), 400\n",
    "\n",
    "        # Check if passwords match\n",
    "        if password != password_re:\n",
    "            return jsonify({'message': 'Passwords do not match.'}), 400\n",
    "        \n",
    "        # Validate password strength\n",
    "        if not is_valid_password(password):\n",
    "            return jsonify({'message': 'Password must be at least 8 characters long, include uppercase letters, lowercase letters, and numbers.'}), 400\n",
    "        \n",
    "        # Create new user\n",
    "        hashed_password = generate_password_hash(password, method='pbkdf2:sha256')\n",
    "\n",
    "        print('here2')\n",
    "        # Creating an empty list of symbols for the new user is implicit because we start with no symbols related to the user\n",
    "        new_user = User(email=email, password=hashed_password, account_type='basic')\n",
    "        print('here3')\n",
    "        try:\n",
    "            db.session.add(new_user)\n",
    "            db.session.commit()\n",
    "            print('here4')\n",
    "            return jsonify({'message': 'Sign-up successful!', 'redirect': url_for('login')}), 200\n",
    "        except Exception as e:\n",
    "            print(e)\n",
    "            return jsonify({'message': 'Error creating user.'}), 500\n"
   ]
  },
  {
   "cell_type": "markdown",
   "metadata": {},
   "source": [
    "### 4.3 Request E-mail"
   ]
  },
  {
   "cell_type": "code",
   "execution_count": 127,
   "metadata": {},
   "outputs": [],
   "source": [
    "def generate_temporary_password(length=8):\n",
    "    letters_and_digits = string.ascii_letters + string.digits\n",
    "    return ''.join(random.choice(letters_and_digits) for i in range(length))\n",
    "\n",
    "def send_email(email, temporary_password):\n",
    "    # Placeholder function to simulate sending an email\n",
    "    # Implement actual email sending logic here\n",
    "    print(f\"Sending temporary password to {email}: {temporary_password}\")"
   ]
  },
  {
   "cell_type": "code",
   "execution_count": 128,
   "metadata": {},
   "outputs": [],
   "source": [
    "@app.route('/request_email', methods=['GET', 'POST'])\n",
    "def request_email():\n",
    "    if request.method == 'POST':\n",
    "        data = request.get_json()\n",
    "        email = data.get('email')\n",
    "        \n",
    "        # Check if the email exists in the User database\n",
    "        user = User.query.filter_by(email=email).first()\n",
    "        if user:  \n",
    "            # Generate a temporary password\n",
    "            temp_password = generate_temporary_password()\n",
    "            # Check if a temporary password entry already exists for the email\n",
    "            temp_password_entry = TemporaryPassword.query.filter_by(email=email).first()\n",
    "            if temp_password_entry:\n",
    "                db.session.delete(temp_password_entry)\n",
    "                db.session.commit()\n",
    "\n",
    "            temp_password_entry = TemporaryPassword(email=email, temp_password=temp_password)\n",
    "            db.session.add(temp_password_entry)\n",
    "            db.session.commit()\n",
    "            \n",
    "            # Send a temporary password\n",
    "            send_email(email, temp_password)\n",
    "\n",
    "            # Store the email in a session to use in forgot password section\n",
    "            session['resetEmail'] = email\n",
    "            \n",
    "            return jsonify({'success': True, 'message': 'Temporary password sent to your email'})\n",
    "        else:\n",
    "            return jsonify({'success': False, 'message': 'Email not found'})\n",
    "\n",
    "    return render_template('request_email.html')\n"
   ]
  },
  {
   "cell_type": "markdown",
   "metadata": {},
   "source": [
    "### 4.4 Forgot Passward"
   ]
  },
  {
   "cell_type": "code",
   "execution_count": 129,
   "metadata": {},
   "outputs": [],
   "source": [
    "@app.route('/forgot_password', methods=['GET', 'POST'])\n",
    "def forgot_password():\n",
    "    if request.method == 'POST':\n",
    "        data = request.get_json()\n",
    "        temp_password = data.get('tempPassword')\n",
    "        \n",
    "        #Retrieve email from session\n",
    "        email = session.get('resetEmail')\n",
    "\n",
    "        if not email:\n",
    "            return jsonify({'success': False, 'message': 'No email found in session. Please request an email first.'})\n",
    "\n",
    "        # Check the temporary password in the database\n",
    "        temp_password_entry = TemporaryPassword.query.filter_by(email=email, temp_password=temp_password).first()\n",
    "        if temp_password_entry:\n",
    "            # Temporary password matches\n",
    "            return jsonify({'success': True, 'message': 'Temporary password verified. Proceed to reset password.'})\n",
    "        else:\n",
    "            return jsonify({'success': False, 'message': 'Invalid temporary password'})\n",
    "\n",
    "    return render_template('forgot_password.html')"
   ]
  },
  {
   "cell_type": "markdown",
   "metadata": {},
   "source": [
    "### 4.5 Reset Password"
   ]
  },
  {
   "cell_type": "code",
   "execution_count": 130,
   "metadata": {},
   "outputs": [],
   "source": [
    "@app.route('/reset_password', methods=['GET', 'POST'])\n",
    "def reset_password():\n",
    "    if request.method == 'POST':\n",
    "        data = request.get_json()\n",
    "        new_password = data.get('newPassword')\n",
    "        new_password_re = data.get('newPassword_re')\n",
    "\n",
    "        # Retrieve the email from session\n",
    "        email = session.get('resetEmail')\n",
    "\n",
    "        if not email:\n",
    "            return jsonify({'success': False, 'message': 'No email found in session. Please request an email first.'})\n",
    "\n",
    "        if new_password != new_password_re:\n",
    "            return jsonify({'success': False, 'message': 'Passwords do not match'})\n",
    "        \n",
    "        # Validate password strength\n",
    "        if not is_valid_password(new_password):\n",
    "            return jsonify({'message': 'Password must be at least 8 characters long, include uppercase letters, lowercase letters, and numbers.'}), 400\n",
    "\n",
    "        # Fetch the user from the database\n",
    "        user = User.query.filter_by(email=email).first()\n",
    "        if user:\n",
    "            # Check if the new password is different from the current password\n",
    "            if check_password_hash(user.password, new_password):\n",
    "                return jsonify({'success': False, 'message': 'New password must be different from the old password'})\n",
    "            \n",
    "            # Update the password\n",
    "            hashed_new_password = generate_password_hash(new_password, method='pbkdf2:sha256')\n",
    "            user.password = hashed_new_password\n",
    "            db.session.commit()\n",
    "            return jsonify({'success': True, 'message': 'Password successfully updated. You can now login with your new password.'})\n",
    "        else:\n",
    "            return jsonify({'success': False, 'message': 'User not found'})\n",
    "\n",
    "    # Ensure session email is set, otherwise redirect to request_email\n",
    "    if not session.get('resetEmail'):\n",
    "        return jsonify({'redirect': '/request_email', 'message': 'No email found in session. Please request an email first.'})\n",
    "\n",
    "    return render_template('reset_password.html')"
   ]
  },
  {
   "cell_type": "markdown",
   "metadata": {},
   "source": [
    "### 4.6 Main "
   ]
  },
  {
   "cell_type": "code",
   "execution_count": 131,
   "metadata": {},
   "outputs": [],
   "source": [
    "@app.route('/main', methods=['GET', 'POST']) # Forecaster Button \n",
    "def main():\n",
    "    # Data fetching\n",
    "    return render_template('main.html')"
   ]
  },
  {
   "cell_type": "code",
   "execution_count": 132,
   "metadata": {},
   "outputs": [],
   "source": [
    "@app.route('/logout', methods=['GET', 'POST']) # Logout Button\n",
    "def logout():\n",
    "    # Perform logout operations if needed\n",
    "    return redirect(url_for('login'))"
   ]
  },
  {
   "cell_type": "code",
   "execution_count": 133,
   "metadata": {},
   "outputs": [],
   "source": [
    "@app.route('/my_profile', methods=['GET', 'POST']) # My Profile Button\n",
    "def my_profile():\n",
    "    return render_template('my_profile.html')"
   ]
  },
  {
   "cell_type": "code",
   "execution_count": 134,
   "metadata": {},
   "outputs": [],
   "source": [
    "@app.route('/about_models', methods=['GET', 'POST']) # About Models Button\n",
    "def about_models():\n",
    "    return render_template('about_models.html')"
   ]
  },
  {
   "cell_type": "code",
   "execution_count": 135,
   "metadata": {},
   "outputs": [],
   "source": [
    "@app.route('/get_symbols', methods=['GET']) # Getter method to fetch symbols from the users account\n",
    "def get_symbols():\n",
    "    user_id = session.get('user_id')\n",
    "    if not user_id:\n",
    "        return jsonify({'success': False, 'message': 'User not logged in'}), 401\n",
    "\n",
    "    symbols = Symbol.query.filter_by(user_id=user_id).all()\n",
    "    symbol_list = [symbol.name for symbol in symbols]\n",
    "\n",
    "    return jsonify({'symbols': symbol_list}), 200"
   ]
  },
  {
   "cell_type": "code",
   "execution_count": 141,
   "metadata": {},
   "outputs": [],
   "source": [
    "def fetch_data(symbol, start_date, end_date): # fetch data based on user preference\n",
    "    data = None\n",
    "    try:\n",
    "        # Fetch historical price data\n",
    "        df = yf.download(symbol, start=start_date, end=end_date)\n",
    "\n",
    "        # Drop 'Adj Close' column if present\n",
    "        if 'Adj Close' in df.columns:\n",
    "            df.drop(columns=['Adj Close'], inplace=True)\n",
    "\n",
    "        # Store the dataframe with technical indicators\n",
    "        data = df\n",
    "\n",
    "    except Exception as e:\n",
    "        print(f\"Error fetching data for {symbol}: {e}\")\n",
    "\n",
    "    return data\n",
    "\n",
    "def check_symbol_existence(symbol): #check the existence of symbol from yahoo finance\n",
    "    try:\n",
    "        stock = yf.Ticker(symbol)\n",
    "        data = stock.history(period=\"1d\")\n",
    "        return not data.empty\n",
    "    except Exception as e:\n",
    "        print(f\"Error fetching data for symbol {symbol}: {e}\")\n",
    "        return False"
   ]
  },
  {
   "cell_type": "code",
   "execution_count": 137,
   "metadata": {},
   "outputs": [],
   "source": [
    "@app.route('/add_symbol', methods=['POST'])\n",
    "def add_symbol(): # add symbol to the db\n",
    "    user_id = session.get('user_id')\n",
    "    if not user_id:\n",
    "        return jsonify({'success': False, 'message': 'User not logged in'}), 401\n",
    "\n",
    "    data = request.json\n",
    "    symbol_name = data.get('symbol')\n",
    "    if not symbol_name:\n",
    "        return jsonify({'success': False, 'message': 'Symbol name not provided'}), 400\n",
    "\n",
    "    # Capitalize the symbol name\n",
    "    symbol_name = symbol_name.upper()\n",
    "    \n",
    "    if not check_symbol_existence(symbol_name):\n",
    "        return jsonify({'success': False, 'message': 'Symbol does not exist'}), 404\n",
    "\n",
    "    existing_symbol = Symbol.query.filter_by(name=symbol_name, user_id=user_id).first()\n",
    "    if existing_symbol:\n",
    "        return jsonify({'success': False, 'message': 'Symbol already added'}), 400\n",
    "    \n",
    "    try:\n",
    "        new_symbol = Symbol(name=symbol_name, user_id=user_id)\n",
    "        db.session.add(new_symbol)\n",
    "        db.session.commit()\n",
    "    except Exception as e:\n",
    "        return jsonify({'success': False, 'message': 'Database error: ' + str(e)}), 500\n",
    "\n",
    "\n",
    "    return jsonify({'success': True}), 200"
   ]
  },
  {
   "cell_type": "code",
   "execution_count": 138,
   "metadata": {},
   "outputs": [],
   "source": [
    "@app.route('/delete_symbol', methods=['POST'])\n",
    "def delete_symbol(): # delete symbol from the db\n",
    "    data = request.json\n",
    "    if not data or 'symbol' not in data:\n",
    "        return jsonify({'message': 'Invalid request'}), 400\n",
    "\n",
    "    symbol_name = data['symbol']\n",
    "    user_id = session.get('user_id')\n",
    "\n",
    "    # Find and delete the symbol\n",
    "    symbol = Symbol.query.filter_by(name=symbol_name, user_id=user_id).first()\n",
    "    if symbol:\n",
    "        db.session.delete(symbol)\n",
    "        db.session.commit()\n",
    "        return jsonify({'success': True}), 200\n",
    "    else:\n",
    "        return jsonify({'message': 'Symbol not found'}), 404"
   ]
  },
  {
   "cell_type": "code",
   "execution_count": 139,
   "metadata": {},
   "outputs": [],
   "source": [
    "@app.route('/predict', methods=['GET', 'POST'])\n",
    "def predict():\n",
    "    try:\n",
    "        data = request.json\n",
    "        symbol = data['symbol']\n",
    "        data_length = data['data_length']\n",
    "        forecast_days = data['forecast_days']\n",
    "        model_type = data['model_type']\n",
    "    \n",
    "        #Set start and end date\n",
    "        now = datetime.now()\n",
    "        start_date =  (now - timedelta(days = data_length)).strftime(\"%Y-%m-%d\")\n",
    "        end_date = now.strftime(\"%Y-%m-%d\")\n",
    "\n",
    "        #Check if model already exists\n",
    "        model = TrainedModels.load_trained_model(model_type=model_type, start_date=start_date, end_date=end_date, symbol=symbol)\n",
    "        forecast_prices = None\n",
    "        if model:  # if the model is already trained avoid re-training it.\n",
    "            trained_model = model\n",
    "            # Forecast\n",
    "            forecast_prices = trained_model.forecast(forecast_days = forecast_days)\n",
    "        else:\n",
    "            data = fetch_data(symbol, start_date, end_date)\n",
    "            model = create_model(model_type, data)\n",
    "            trained_model = model.train()\n",
    "            # Create a new instance of Model\n",
    "            new_model = TrainedModels(symbol= symbol, model_type= model_type, start_date= start_date, end_date= end_date)\n",
    "            # Save the trained model to the database\n",
    "            new_model.save_trained_model(trained_model)\n",
    "            # Commit the changes\n",
    "            db.session.add(new_model)\n",
    "            db.session.commit()\n",
    "            # Forecast\n",
    "            forecast_prices = trained_model.forecast(forecast_days = forecast_days)\n",
    "\n",
    "        # Example: Data to send to Firebase\n",
    "        processed_data = {\n",
    "            'forecast_prices': forecast_prices,\n",
    "            'processed': True\n",
    "        }\n",
    "\n",
    "        return jsonify(processed_data), 200 \n",
    "\n",
    "    except KeyError as e:\n",
    "        return jsonify({'error': f'Missing key: {e.args[0]}'}, 400)\n",
    "\n",
    "    except Exception as e:\n",
    "        return jsonify({'error': str(e)}, 500)"
   ]
  },
  {
   "cell_type": "markdown",
   "metadata": {},
   "source": [
    "### 4.7 My Profile"
   ]
  },
  {
   "cell_type": "markdown",
   "metadata": {},
   "source": [
    "### 4.8 About Models"
   ]
  },
  {
   "cell_type": "markdown",
   "metadata": {},
   "source": [
    "## 5 App Run"
   ]
  },
  {
   "cell_type": "code",
   "execution_count": 140,
   "metadata": {},
   "outputs": [
    {
     "name": "stdout",
     "output_type": "stream",
     "text": [
      " * Serving Flask app '__main__'\n",
      " * Debug mode: on\n"
     ]
    },
    {
     "name": "stderr",
     "output_type": "stream",
     "text": [
      "WARNING: This is a development server. Do not use it in a production deployment. Use a production WSGI server instead.\n",
      " * Running on http://127.0.0.1:5000\n",
      "Press CTRL+C to quit\n",
      "127.0.0.1 - - [02/Aug/2024 10:30:09] \"GET / HTTP/1.1\" 200 -\n",
      "127.0.0.1 - - [02/Aug/2024 10:30:25] \"POST /login HTTP/1.1\" 401 -\n",
      "127.0.0.1 - - [02/Aug/2024 10:30:41] \"POST /login HTTP/1.1\" 200 -\n",
      "127.0.0.1 - - [02/Aug/2024 10:30:41] \"GET /main HTTP/1.1\" 200 -\n",
      "127.0.0.1 - - [02/Aug/2024 10:30:41] \"GET /get_symbols HTTP/1.1\" 200 -\n",
      "127.0.0.1 - - [02/Aug/2024 10:30:48] \"POST /delete_symbol HTTP/1.1\" 200 -\n",
      "127.0.0.1 - - [02/Aug/2024 10:30:48] \"GET /get_symbols HTTP/1.1\" 200 -\n",
      "127.0.0.1 - - [02/Aug/2024 10:30:53] \"POST /delete_symbol HTTP/1.1\" 200 -\n",
      "127.0.0.1 - - [02/Aug/2024 10:30:53] \"GET /get_symbols HTTP/1.1\" 200 -\n",
      "127.0.0.1 - - [02/Aug/2024 10:30:54] \"POST /delete_symbol HTTP/1.1\" 200 -\n",
      "127.0.0.1 - - [02/Aug/2024 10:30:54] \"GET /get_symbols HTTP/1.1\" 200 -\n",
      "127.0.0.1 - - [02/Aug/2024 10:30:59] \"POST /delete_symbol HTTP/1.1\" 200 -\n",
      "127.0.0.1 - - [02/Aug/2024 10:30:59] \"GET /get_symbols HTTP/1.1\" 200 -\n",
      "127.0.0.1 - - [02/Aug/2024 10:31:00] \"POST /delete_symbol HTTP/1.1\" 200 -\n",
      "127.0.0.1 - - [02/Aug/2024 10:31:00] \"GET /get_symbols HTTP/1.1\" 200 -\n",
      "127.0.0.1 - - [02/Aug/2024 10:31:01] \"POST /delete_symbol HTTP/1.1\" 200 -\n",
      "127.0.0.1 - - [02/Aug/2024 10:31:01] \"GET /get_symbols HTTP/1.1\" 200 -\n",
      "127.0.0.1 - - [02/Aug/2024 10:31:04] \"POST /delete_symbol HTTP/1.1\" 200 -\n",
      "127.0.0.1 - - [02/Aug/2024 10:31:04] \"GET /get_symbols HTTP/1.1\" 200 -\n",
      "127.0.0.1 - - [02/Aug/2024 10:31:04] \"POST /delete_symbol HTTP/1.1\" 200 -\n",
      "127.0.0.1 - - [02/Aug/2024 10:31:04] \"GET /get_symbols HTTP/1.1\" 200 -\n",
      "127.0.0.1 - - [02/Aug/2024 10:31:05] \"POST /delete_symbol HTTP/1.1\" 200 -\n",
      "127.0.0.1 - - [02/Aug/2024 10:31:05] \"GET /get_symbols HTTP/1.1\" 200 -\n",
      "127.0.0.1 - - [02/Aug/2024 10:31:18] \"POST /add_symbol HTTP/1.1\" 200 -\n",
      "127.0.0.1 - - [02/Aug/2024 10:31:18] \"GET /get_symbols HTTP/1.1\" 200 -\n",
      "127.0.0.1 - - [02/Aug/2024 10:32:14] \"GET /main HTTP/1.1\" 200 -\n",
      "127.0.0.1 - - [02/Aug/2024 10:32:14] \"GET /get_symbols HTTP/1.1\" 200 -\n",
      "127.0.0.1 - - [02/Aug/2024 10:32:55] \"GET /main HTTP/1.1\" 200 -\n",
      "127.0.0.1 - - [02/Aug/2024 10:32:55] \"GET /get_symbols HTTP/1.1\" 200 -\n",
      "127.0.0.1 - - [02/Aug/2024 10:33:19] \"GET /main HTTP/1.1\" 200 -\n",
      "127.0.0.1 - - [02/Aug/2024 10:33:19] \"GET /get_symbols HTTP/1.1\" 200 -\n",
      "127.0.0.1 - - [02/Aug/2024 10:37:08] \"GET /main HTTP/1.1\" 200 -\n",
      "127.0.0.1 - - [02/Aug/2024 10:37:08] \"GET /get_symbols HTTP/1.1\" 200 -\n",
      "127.0.0.1 - - [02/Aug/2024 10:37:11] \"POST /delete_symbol HTTP/1.1\" 200 -\n",
      "127.0.0.1 - - [02/Aug/2024 10:37:11] \"GET /get_symbols HTTP/1.1\" 200 -\n",
      "127.0.0.1 - - [02/Aug/2024 10:37:17] \"POST /add_symbol HTTP/1.1\" 200 -\n",
      "127.0.0.1 - - [02/Aug/2024 10:37:17] \"GET /get_symbols HTTP/1.1\" 200 -\n",
      "127.0.0.1 - - [02/Aug/2024 10:40:46] \"GET /main HTTP/1.1\" 200 -\n",
      "127.0.0.1 - - [02/Aug/2024 10:40:46] \"GET /get_symbols HTTP/1.1\" 200 -\n",
      "127.0.0.1 - - [02/Aug/2024 10:40:59] \"GET /main HTTP/1.1\" 200 -\n",
      "127.0.0.1 - - [02/Aug/2024 10:40:59] \"GET /get_symbols HTTP/1.1\" 200 -\n",
      "127.0.0.1 - - [02/Aug/2024 10:43:53] \"GET /main HTTP/1.1\" 200 -\n",
      "127.0.0.1 - - [02/Aug/2024 10:43:54] \"GET /get_symbols HTTP/1.1\" 200 -\n",
      "127.0.0.1 - - [02/Aug/2024 10:43:55] \"GET /main HTTP/1.1\" 200 -\n",
      "127.0.0.1 - - [02/Aug/2024 10:43:55] \"GET /get_symbols HTTP/1.1\" 200 -\n",
      "127.0.0.1 - - [02/Aug/2024 10:44:12] \"GET /main HTTP/1.1\" 200 -\n",
      "127.0.0.1 - - [02/Aug/2024 10:44:12] \"GET /get_symbols HTTP/1.1\" 200 -\n",
      "127.0.0.1 - - [02/Aug/2024 10:44:26] \"GET /main HTTP/1.1\" 200 -\n",
      "127.0.0.1 - - [02/Aug/2024 10:44:26] \"GET /get_symbols HTTP/1.1\" 200 -\n",
      "127.0.0.1 - - [02/Aug/2024 10:44:35] \"GET /main HTTP/1.1\" 200 -\n",
      "127.0.0.1 - - [02/Aug/2024 10:44:35] \"GET /get_symbols HTTP/1.1\" 200 -\n",
      "127.0.0.1 - - [02/Aug/2024 10:44:42] \"GET /main HTTP/1.1\" 200 -\n",
      "127.0.0.1 - - [02/Aug/2024 10:44:42] \"GET /get_symbols HTTP/1.1\" 200 -\n",
      "127.0.0.1 - - [02/Aug/2024 10:45:14] \"GET /main HTTP/1.1\" 200 -\n",
      "127.0.0.1 - - [02/Aug/2024 10:45:14] \"GET /get_symbols HTTP/1.1\" 200 -\n",
      "127.0.0.1 - - [02/Aug/2024 10:45:30] \"GET /main HTTP/1.1\" 200 -\n",
      "127.0.0.1 - - [02/Aug/2024 10:45:30] \"GET /get_symbols HTTP/1.1\" 200 -\n",
      "127.0.0.1 - - [02/Aug/2024 10:45:36] \"GET /main HTTP/1.1\" 200 -\n",
      "127.0.0.1 - - [02/Aug/2024 10:45:36] \"GET /get_symbols HTTP/1.1\" 200 -\n",
      "127.0.0.1 - - [02/Aug/2024 10:45:45] \"GET /main HTTP/1.1\" 200 -\n",
      "127.0.0.1 - - [02/Aug/2024 10:45:45] \"GET /get_symbols HTTP/1.1\" 200 -\n",
      "127.0.0.1 - - [02/Aug/2024 10:47:27] \"GET /main HTTP/1.1\" 200 -\n",
      "127.0.0.1 - - [02/Aug/2024 10:47:28] \"GET /get_symbols HTTP/1.1\" 200 -\n",
      "127.0.0.1 - - [02/Aug/2024 10:47:40] \"GET /main HTTP/1.1\" 200 -\n",
      "127.0.0.1 - - [02/Aug/2024 10:47:40] \"GET /get_symbols HTTP/1.1\" 200 -\n",
      "127.0.0.1 - - [02/Aug/2024 10:48:51] \"GET /main HTTP/1.1\" 200 -\n",
      "127.0.0.1 - - [02/Aug/2024 10:48:51] \"GET /get_symbols HTTP/1.1\" 200 -\n",
      "127.0.0.1 - - [02/Aug/2024 10:49:48] \"GET /main HTTP/1.1\" 200 -\n",
      "127.0.0.1 - - [02/Aug/2024 10:49:48] \"GET /get_symbols HTTP/1.1\" 200 -\n",
      "127.0.0.1 - - [02/Aug/2024 10:49:49] \"GET /main HTTP/1.1\" 200 -\n",
      "127.0.0.1 - - [02/Aug/2024 10:49:49] \"GET /get_symbols HTTP/1.1\" 200 -\n",
      "127.0.0.1 - - [02/Aug/2024 10:51:07] \"GET /main HTTP/1.1\" 200 -\n",
      "127.0.0.1 - - [02/Aug/2024 10:51:08] \"GET /get_symbols HTTP/1.1\" 200 -\n",
      "127.0.0.1 - - [02/Aug/2024 10:51:08] \"GET /main HTTP/1.1\" 200 -\n",
      "127.0.0.1 - - [02/Aug/2024 10:51:08] \"GET /get_symbols HTTP/1.1\" 200 -\n",
      "127.0.0.1 - - [02/Aug/2024 10:51:08] \"GET /main HTTP/1.1\" 200 -\n",
      "127.0.0.1 - - [02/Aug/2024 10:51:09] \"GET /main HTTP/1.1\" 200 -\n",
      "127.0.0.1 - - [02/Aug/2024 10:51:09] \"GET /get_symbols HTTP/1.1\" 200 -\n",
      "127.0.0.1 - - [02/Aug/2024 10:51:09] \"GET /get_symbols HTTP/1.1\" 200 -\n",
      "127.0.0.1 - - [02/Aug/2024 10:51:09] \"GET /main HTTP/1.1\" 200 -\n",
      "127.0.0.1 - - [02/Aug/2024 10:51:09] \"GET /get_symbols HTTP/1.1\" 200 -\n",
      "127.0.0.1 - - [02/Aug/2024 10:51:09] \"GET /main HTTP/1.1\" 200 -\n",
      "127.0.0.1 - - [02/Aug/2024 10:51:09] \"GET /get_symbols HTTP/1.1\" 200 -\n",
      "127.0.0.1 - - [02/Aug/2024 10:51:16] \"GET /main HTTP/1.1\" 200 -\n",
      "127.0.0.1 - - [02/Aug/2024 10:51:16] \"GET /get_symbols HTTP/1.1\" 200 -\n",
      "127.0.0.1 - - [02/Aug/2024 10:51:24] \"GET /main HTTP/1.1\" 200 -\n",
      "127.0.0.1 - - [02/Aug/2024 10:51:24] \"GET /get_symbols HTTP/1.1\" 200 -\n",
      "127.0.0.1 - - [02/Aug/2024 10:51:32] \"GET /main HTTP/1.1\" 200 -\n",
      "127.0.0.1 - - [02/Aug/2024 10:51:32] \"GET /get_symbols HTTP/1.1\" 200 -\n",
      "127.0.0.1 - - [02/Aug/2024 10:51:42] \"GET /main HTTP/1.1\" 200 -\n",
      "127.0.0.1 - - [02/Aug/2024 10:51:42] \"GET /get_symbols HTTP/1.1\" 200 -\n",
      "127.0.0.1 - - [02/Aug/2024 10:51:52] \"GET /main HTTP/1.1\" 200 -\n",
      "127.0.0.1 - - [02/Aug/2024 10:51:52] \"GET /get_symbols HTTP/1.1\" 200 -\n",
      "127.0.0.1 - - [02/Aug/2024 10:52:07] \"GET /main HTTP/1.1\" 200 -\n",
      "127.0.0.1 - - [02/Aug/2024 10:52:07] \"GET /get_symbols HTTP/1.1\" 200 -\n",
      "127.0.0.1 - - [02/Aug/2024 10:52:11] \"POST /delete_symbol HTTP/1.1\" 200 -\n",
      "127.0.0.1 - - [02/Aug/2024 10:52:11] \"GET /get_symbols HTTP/1.1\" 200 -\n",
      "127.0.0.1 - - [02/Aug/2024 10:52:25] \"POST /add_symbol HTTP/1.1\" 200 -\n",
      "127.0.0.1 - - [02/Aug/2024 10:52:25] \"GET /get_symbols HTTP/1.1\" 200 -\n",
      "127.0.0.1 - - [02/Aug/2024 10:52:27] \"POST /delete_symbol HTTP/1.1\" 200 -\n",
      "127.0.0.1 - - [02/Aug/2024 10:52:27] \"GET /get_symbols HTTP/1.1\" 200 -\n",
      "127.0.0.1 - - [02/Aug/2024 10:52:30] \"POST /add_symbol HTTP/1.1\" 200 -\n",
      "127.0.0.1 - - [02/Aug/2024 10:52:31] \"GET /get_symbols HTTP/1.1\" 200 -\n",
      "127.0.0.1 - - [02/Aug/2024 10:56:51] \"POST /add_symbol HTTP/1.1\" 200 -\n",
      "127.0.0.1 - - [02/Aug/2024 10:56:51] \"GET /get_symbols HTTP/1.1\" 200 -\n",
      "127.0.0.1 - - [02/Aug/2024 10:57:22] \"GET /main HTTP/1.1\" 200 -\n",
      "127.0.0.1 - - [02/Aug/2024 10:57:22] \"GET /get_symbols HTTP/1.1\" 200 -\n",
      "127.0.0.1 - - [02/Aug/2024 10:59:06] \"GET /main HTTP/1.1\" 200 -\n",
      "127.0.0.1 - - [02/Aug/2024 10:59:06] \"GET /get_symbols HTTP/1.1\" 200 -\n",
      "127.0.0.1 - - [02/Aug/2024 11:00:16] \"GET /main HTTP/1.1\" 200 -\n",
      "127.0.0.1 - - [02/Aug/2024 11:00:16] \"GET /get_symbols HTTP/1.1\" 200 -\n",
      "127.0.0.1 - - [02/Aug/2024 11:02:24] \"GET /main HTTP/1.1\" 200 -\n",
      "127.0.0.1 - - [02/Aug/2024 11:02:24] \"GET /get_symbols HTTP/1.1\" 200 -\n",
      "127.0.0.1 - - [02/Aug/2024 11:02:49] \"GET /main HTTP/1.1\" 200 -\n",
      "127.0.0.1 - - [02/Aug/2024 11:02:50] \"GET /get_symbols HTTP/1.1\" 200 -\n",
      "127.0.0.1 - - [02/Aug/2024 11:02:59] \"GET /main HTTP/1.1\" 200 -\n",
      "127.0.0.1 - - [02/Aug/2024 11:02:59] \"GET /get_symbols HTTP/1.1\" 200 -\n",
      "127.0.0.1 - - [02/Aug/2024 11:05:03] \"GET /main HTTP/1.1\" 200 -\n",
      "127.0.0.1 - - [02/Aug/2024 11:05:03] \"GET /get_symbols HTTP/1.1\" 200 -\n",
      "127.0.0.1 - - [02/Aug/2024 11:06:02] \"GET /main HTTP/1.1\" 200 -\n",
      "127.0.0.1 - - [02/Aug/2024 11:06:02] \"GET /get_symbols HTTP/1.1\" 200 -\n",
      "127.0.0.1 - - [02/Aug/2024 11:06:44] \"GET /main HTTP/1.1\" 200 -\n",
      "127.0.0.1 - - [02/Aug/2024 11:06:44] \"GET /get_symbols HTTP/1.1\" 200 -\n",
      "127.0.0.1 - - [02/Aug/2024 11:06:50] \"GET /main HTTP/1.1\" 200 -\n",
      "127.0.0.1 - - [02/Aug/2024 11:06:51] \"GET /get_symbols HTTP/1.1\" 200 -\n",
      "127.0.0.1 - - [02/Aug/2024 11:09:04] \"GET /main HTTP/1.1\" 200 -\n",
      "127.0.0.1 - - [02/Aug/2024 11:09:04] \"GET /get_symbols HTTP/1.1\" 200 -\n",
      "127.0.0.1 - - [02/Aug/2024 11:09:06] \"GET /main HTTP/1.1\" 200 -\n",
      "127.0.0.1 - - [02/Aug/2024 11:09:06] \"GET /get_symbols HTTP/1.1\" 200 -\n",
      "127.0.0.1 - - [02/Aug/2024 11:09:13] \"GET /main HTTP/1.1\" 200 -\n",
      "127.0.0.1 - - [02/Aug/2024 11:09:14] \"GET /get_symbols HTTP/1.1\" 200 -\n",
      "127.0.0.1 - - [02/Aug/2024 11:09:21] \"GET /main HTTP/1.1\" 200 -\n",
      "127.0.0.1 - - [02/Aug/2024 11:09:21] \"GET /get_symbols HTTP/1.1\" 200 -\n",
      "127.0.0.1 - - [02/Aug/2024 11:09:33] \"GET /main HTTP/1.1\" 200 -\n",
      "127.0.0.1 - - [02/Aug/2024 11:09:33] \"GET /get_symbols HTTP/1.1\" 200 -\n",
      "127.0.0.1 - - [02/Aug/2024 11:09:38] \"GET /main HTTP/1.1\" 200 -\n",
      "127.0.0.1 - - [02/Aug/2024 11:09:38] \"GET /get_symbols HTTP/1.1\" 200 -\n",
      "127.0.0.1 - - [02/Aug/2024 11:10:30] \"GET /main HTTP/1.1\" 200 -\n",
      "127.0.0.1 - - [02/Aug/2024 11:10:30] \"GET /get_symbols HTTP/1.1\" 200 -\n",
      "127.0.0.1 - - [02/Aug/2024 11:11:27] \"GET /main HTTP/1.1\" 200 -\n",
      "127.0.0.1 - - [02/Aug/2024 11:11:27] \"GET /get_symbols HTTP/1.1\" 200 -\n",
      "127.0.0.1 - - [02/Aug/2024 11:13:28] \"GET /main HTTP/1.1\" 200 -\n",
      "127.0.0.1 - - [02/Aug/2024 11:13:28] \"GET /get_symbols HTTP/1.1\" 200 -\n",
      "127.0.0.1 - - [02/Aug/2024 11:13:29] \"GET /main HTTP/1.1\" 200 -\n",
      "127.0.0.1 - - [02/Aug/2024 11:13:29] \"GET /get_symbols HTTP/1.1\" 200 -\n",
      "127.0.0.1 - - [02/Aug/2024 11:13:38] \"GET /main HTTP/1.1\" 200 -\n",
      "127.0.0.1 - - [02/Aug/2024 11:13:39] \"GET /get_symbols HTTP/1.1\" 200 -\n",
      "127.0.0.1 - - [02/Aug/2024 11:13:55] \"GET /main HTTP/1.1\" 200 -\n",
      "127.0.0.1 - - [02/Aug/2024 11:13:55] \"GET /get_symbols HTTP/1.1\" 200 -\n",
      "127.0.0.1 - - [02/Aug/2024 11:14:02] \"GET /main HTTP/1.1\" 200 -\n",
      "127.0.0.1 - - [02/Aug/2024 11:14:02] \"GET /get_symbols HTTP/1.1\" 200 -\n",
      "127.0.0.1 - - [02/Aug/2024 11:14:07] \"POST /delete_symbol HTTP/1.1\" 200 -\n",
      "127.0.0.1 - - [02/Aug/2024 11:14:07] \"GET /get_symbols HTTP/1.1\" 200 -\n",
      "127.0.0.1 - - [02/Aug/2024 11:14:31] \"GET /main HTTP/1.1\" 200 -\n",
      "127.0.0.1 - - [02/Aug/2024 11:14:31] \"GET /get_symbols HTTP/1.1\" 200 -\n",
      "127.0.0.1 - - [02/Aug/2024 11:14:36] \"GET /main HTTP/1.1\" 200 -\n",
      "127.0.0.1 - - [02/Aug/2024 11:14:36] \"GET /get_symbols HTTP/1.1\" 200 -\n",
      "127.0.0.1 - - [02/Aug/2024 11:14:43] \"GET /main HTTP/1.1\" 200 -\n",
      "127.0.0.1 - - [02/Aug/2024 11:14:43] \"GET /get_symbols HTTP/1.1\" 200 -\n",
      "127.0.0.1 - - [02/Aug/2024 11:14:49] \"GET /main HTTP/1.1\" 200 -\n",
      "127.0.0.1 - - [02/Aug/2024 11:14:49] \"GET /get_symbols HTTP/1.1\" 200 -\n",
      "127.0.0.1 - - [02/Aug/2024 11:14:57] \"POST /add_symbol HTTP/1.1\" 200 -\n",
      "127.0.0.1 - - [02/Aug/2024 11:14:57] \"GET /get_symbols HTTP/1.1\" 200 -\n",
      "127.0.0.1 - - [02/Aug/2024 11:15:16] \"GET /main HTTP/1.1\" 200 -\n",
      "127.0.0.1 - - [02/Aug/2024 11:15:16] \"GET /get_symbols HTTP/1.1\" 200 -\n",
      "127.0.0.1 - - [02/Aug/2024 11:15:39] \"GET /main HTTP/1.1\" 200 -\n",
      "127.0.0.1 - - [02/Aug/2024 11:15:39] \"GET /get_symbols HTTP/1.1\" 200 -\n",
      "127.0.0.1 - - [02/Aug/2024 11:15:45] \"GET /main HTTP/1.1\" 200 -\n",
      "127.0.0.1 - - [02/Aug/2024 11:15:45] \"GET /get_symbols HTTP/1.1\" 200 -\n",
      "127.0.0.1 - - [02/Aug/2024 11:15:52] \"GET /main HTTP/1.1\" 200 -\n",
      "127.0.0.1 - - [02/Aug/2024 11:15:52] \"GET /get_symbols HTTP/1.1\" 200 -\n",
      "127.0.0.1 - - [02/Aug/2024 11:15:58] \"GET /main HTTP/1.1\" 200 -\n",
      "127.0.0.1 - - [02/Aug/2024 11:15:58] \"GET /get_symbols HTTP/1.1\" 200 -\n",
      "127.0.0.1 - - [02/Aug/2024 11:16:03] \"GET /main HTTP/1.1\" 200 -\n",
      "127.0.0.1 - - [02/Aug/2024 11:16:03] \"GET /get_symbols HTTP/1.1\" 200 -\n",
      "127.0.0.1 - - [02/Aug/2024 11:16:09] \"GET /main HTTP/1.1\" 200 -\n",
      "127.0.0.1 - - [02/Aug/2024 11:16:10] \"GET /get_symbols HTTP/1.1\" 200 -\n",
      "127.0.0.1 - - [02/Aug/2024 11:16:21] \"GET /main HTTP/1.1\" 200 -\n",
      "127.0.0.1 - - [02/Aug/2024 11:16:21] \"GET /get_symbols HTTP/1.1\" 200 -\n",
      "127.0.0.1 - - [02/Aug/2024 11:16:38] \"GET /main HTTP/1.1\" 200 -\n",
      "127.0.0.1 - - [02/Aug/2024 11:16:38] \"GET /get_symbols HTTP/1.1\" 200 -\n",
      "127.0.0.1 - - [02/Aug/2024 11:16:44] \"GET /main HTTP/1.1\" 200 -\n",
      "127.0.0.1 - - [02/Aug/2024 11:16:44] \"GET /get_symbols HTTP/1.1\" 200 -\n",
      "127.0.0.1 - - [02/Aug/2024 11:17:28] \"POST /add_symbol HTTP/1.1\" 200 -\n",
      "127.0.0.1 - - [02/Aug/2024 11:17:29] \"GET /get_symbols HTTP/1.1\" 200 -\n",
      "127.0.0.1 - - [02/Aug/2024 11:19:51] \"GET /main HTTP/1.1\" 200 -\n",
      "127.0.0.1 - - [02/Aug/2024 11:19:51] \"GET /get_symbols HTTP/1.1\" 200 -\n",
      "127.0.0.1 - - [02/Aug/2024 11:21:39] \"GET /main HTTP/1.1\" 200 -\n",
      "127.0.0.1 - - [02/Aug/2024 11:21:39] \"GET /get_symbols HTTP/1.1\" 200 -\n",
      "127.0.0.1 - - [02/Aug/2024 11:23:25] \"GET /main HTTP/1.1\" 200 -\n",
      "127.0.0.1 - - [02/Aug/2024 11:23:25] \"GET /get_symbols HTTP/1.1\" 200 -\n",
      "127.0.0.1 - - [02/Aug/2024 11:23:41] \"POST /delete_symbol HTTP/1.1\" 200 -\n",
      "127.0.0.1 - - [02/Aug/2024 11:23:41] \"GET /get_symbols HTTP/1.1\" 200 -\n",
      "127.0.0.1 - - [02/Aug/2024 11:24:09] \"GET /main HTTP/1.1\" 200 -\n",
      "127.0.0.1 - - [02/Aug/2024 11:24:09] \"GET /get_symbols HTTP/1.1\" 200 -\n",
      "127.0.0.1 - - [02/Aug/2024 11:24:18] \"GET /main HTTP/1.1\" 200 -\n",
      "127.0.0.1 - - [02/Aug/2024 11:24:19] \"GET /get_symbols HTTP/1.1\" 200 -\n",
      "127.0.0.1 - - [02/Aug/2024 11:24:50] \"POST /add_symbol HTTP/1.1\" 200 -\n",
      "127.0.0.1 - - [02/Aug/2024 11:24:50] \"GET /get_symbols HTTP/1.1\" 200 -\n",
      "127.0.0.1 - - [02/Aug/2024 11:24:51] \"POST /add_symbol HTTP/1.1\" 400 -\n",
      "127.0.0.1 - - [02/Aug/2024 11:24:57] \"POST /add_symbol HTTP/1.1\" 200 -\n",
      "127.0.0.1 - - [02/Aug/2024 11:24:57] \"GET /get_symbols HTTP/1.1\" 200 -\n",
      "127.0.0.1 - - [02/Aug/2024 11:25:04] \"POST /add_symbol HTTP/1.1\" 200 -\n",
      "127.0.0.1 - - [02/Aug/2024 11:25:04] \"GET /get_symbols HTTP/1.1\" 200 -\n",
      "127.0.0.1 - - [02/Aug/2024 11:25:09] \"POST /add_symbol HTTP/1.1\" 200 -\n",
      "127.0.0.1 - - [02/Aug/2024 11:25:09] \"GET /get_symbols HTTP/1.1\" 200 -\n",
      "127.0.0.1 - - [02/Aug/2024 11:25:26] \"POST /add_symbol HTTP/1.1\" 200 -\n",
      "127.0.0.1 - - [02/Aug/2024 11:25:26] \"GET /get_symbols HTTP/1.1\" 200 -\n"
     ]
    }
   ],
   "source": [
    "if __name__ == '__main__':\n",
    "    with app.app_context():\n",
    "        db.create_all()\n",
    "    app.run(debug=True, use_reloader=False)"
   ]
  }
 ],
 "metadata": {
  "kernelspec": {
   "display_name": "Python 3",
   "language": "python",
   "name": "python3"
  },
  "language_info": {
   "codemirror_mode": {
    "name": "ipython",
    "version": 3
   },
   "file_extension": ".py",
   "mimetype": "text/x-python",
   "name": "python",
   "nbconvert_exporter": "python",
   "pygments_lexer": "ipython3",
   "version": "3.12.3"
  }
 },
 "nbformat": 4,
 "nbformat_minor": 2
}
