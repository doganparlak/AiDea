{
 "cells": [
  {
   "cell_type": "markdown",
   "metadata": {},
   "source": [
    "## 1. Packages & Initializations"
   ]
  },
  {
   "cell_type": "code",
   "execution_count": 1,
   "metadata": {},
   "outputs": [],
   "source": [
    "from flask import Flask, request, jsonify, render_template, redirect, url_for\n",
    "from flask_sqlalchemy import SQLAlchemy\n",
    "from werkzeug.security import check_password_hash, generate_password_hash\n",
    "from abc import ABC, abstractmethod\n",
    "from statsmodels.tsa.ar_model import AutoReg\n",
    "from sklearn.model_selection import TimeSeriesSplit\n",
    "from sklearn.metrics import r2_score\n",
    "from itertools import product\n",
    "import pickle\n",
    "import yfinance as yf\n",
    "import pandas as pd\n",
    "import numpy as np\n",
    "import matplotlib.pyplot as plt\n",
    "import warnings\n",
    "from datetime import datetime, timedelta"
   ]
  },
  {
   "cell_type": "code",
   "execution_count": 2,
   "metadata": {},
   "outputs": [],
   "source": [
    "app = Flask(__name__)\n",
    "# Configure the SQLAlchemy part of the app instance\n",
    "app.config['SQLALCHEMY_DATABASE_URI'] = 'sqlite:///aidea.db'\n",
    "app.config['SQLALCHEMY_TRACK_MODIFICATIONS'] = False\n",
    "\n",
    "# Create the SQLAlchemy db instance\n",
    "db = SQLAlchemy(app)"
   ]
  },
  {
   "cell_type": "markdown",
   "metadata": {},
   "source": [
    "## 2. Models"
   ]
  },
  {
   "cell_type": "markdown",
   "metadata": {},
   "source": [
    "### 2.0 Model Class Abstraction"
   ]
  },
  {
   "cell_type": "code",
   "execution_count": 3,
   "metadata": {},
   "outputs": [],
   "source": [
    "class Model(ABC):\n",
    "    def __init__(self, data):\n",
    "        self.data = data\n",
    "\n",
    "    @abstractmethod\n",
    "    def train(self):\n",
    "        \"\"\"\n",
    "        Abstract method to train the model.\n",
    "        \"\"\"\n",
    "        pass\n",
    "    \n",
    "    @abstractmethod\n",
    "    def forecast(self, forecast_days):\n",
    "        \"\"\"\n",
    "        Abstract method to make predictions using the trained model.\n",
    "        \"\"\"\n",
    "        pass"
   ]
  },
  {
   "cell_type": "markdown",
   "metadata": {},
   "source": [
    "### 2.1 AR Model"
   ]
  },
  {
   "cell_type": "code",
   "execution_count": 4,
   "metadata": {},
   "outputs": [],
   "source": [
    "class AR_model(Model):\n",
    "    def __init__(self, data):\n",
    "        super().__init__(data)\n",
    "        self.trained_model = None\n",
    "        self.model_type = 'AR'\n",
    "\n",
    "    def train(self):\n",
    "        # Handle NaNs\n",
    "        data = self.data.dropna(subset=['Close'])\n",
    "\n",
    "        # Define parameter grid for tuning\n",
    "        trends = ['n', 'c', 't', 'ct']\n",
    "        min_lag = 1\n",
    "        max_lag = len(data) \n",
    "        lags_range = range(min_lag, max_lag) \n",
    "\n",
    "        best_r2 = -float('inf') \n",
    "        best_params = None\n",
    "\n",
    "        # Perform grid search with cross-validation on the training set\n",
    "        # Choose the best params based on R2 score\n",
    "        n_splits = 3\n",
    "        tscv = TimeSeriesSplit(n_splits=n_splits)  # Time series cross-validation\n",
    "        warnings.filterwarnings(\"ignore\")\n",
    "        for trend, lags in product(trends, lags_range):\n",
    "            r2_sum = 0\n",
    "            for train_index, val_index in tscv.split(data):\n",
    "                train_split, val_split = data.iloc[train_index], data.iloc[val_index]\n",
    "                try:\n",
    "                    model = AutoReg(train_split['Close'].values, lags=lags, trend=trend).fit()\n",
    "                    predictions = model.predict(start=len(train_split), end=len(train_split) + len(val_split) - 1)\n",
    "                    r2 = r2_score(val_split['Close'], predictions)\n",
    "                    r2_sum += r2\n",
    "                except Exception as e:\n",
    "                    print(f\"Error for trend={trend}, lags={lags}: {e}\")\n",
    "                    continue\n",
    "            \n",
    "            # Average R2 score across folds\n",
    "            avg_r2 = r2_sum / n_splits\n",
    "            \n",
    "            # Update best parameters if better R2 found\n",
    "            if avg_r2 > best_r2:\n",
    "                best_r2 = avg_r2\n",
    "                best_params = (trend, lags)\n",
    "\n",
    "        best_trend, best_lags = best_params\n",
    "        \n",
    "        print(f\"Best R2 score: {best_r2:.4f}\")\n",
    "        print(f\"Best parameters: trend={best_trend}, lags={best_lags}\")\n",
    "        \n",
    "        # Fit the best model on the entire dataset \n",
    "        try:\n",
    "            self.trained_model = AutoReg(data['Close'].values, lags=best_lags, trend=best_trend).fit()\n",
    "        except Exception as e:\n",
    "            print(f'Model training failed with the error message: {e}')\n",
    "        \n",
    "        return self.trained_model\n",
    "    \n",
    "    def forecast(self, forecast_days):\n",
    "        #Forecast next forecast_period days\n",
    "        start = len(self.data)\n",
    "        end = start + forecast_days - 1\n",
    "        forecast_prices = self.trained_model.predict(start=start, end=end)\n",
    "        \n",
    "        return forecast_prices\n"
   ]
  },
  {
   "cell_type": "markdown",
   "metadata": {},
   "source": [
    "### Model Creation Method"
   ]
  },
  {
   "cell_type": "code",
   "execution_count": 5,
   "metadata": {},
   "outputs": [],
   "source": [
    "def create_model(model_type, data):\n",
    "    if model_type == 'AR':\n",
    "        return AR_model(data)"
   ]
  },
  {
   "cell_type": "markdown",
   "metadata": {},
   "source": [
    "## 3. Database for User and Model Tables"
   ]
  },
  {
   "cell_type": "markdown",
   "metadata": {},
   "source": [
    "### 3.1 Users Table"
   ]
  },
  {
   "cell_type": "code",
   "execution_count": 6,
   "metadata": {},
   "outputs": [],
   "source": [
    "class User(db.Model):\n",
    "    id = db.Column(db.Integer, primary_key=True, autoincrement=True)\n",
    "    email = db.Column(db.String(120), unique=True, nullable=False)\n",
    "    password = db.Column(db.String(255), nullable=False)\n",
    "    account_type = db.Column(db.String(20), nullable=False)  # 'basic' or 'premium'\n",
    "\n",
    "    def __repr__(self):\n",
    "        return f'<User {self.email}>'"
   ]
  },
  {
   "cell_type": "markdown",
   "metadata": {},
   "source": [
    "### 3.2 Trained Models Table"
   ]
  },
  {
   "cell_type": "code",
   "execution_count": 7,
   "metadata": {},
   "outputs": [],
   "source": [
    "class TrainedModels(db.Model):\n",
    "    id = db.Column(db.Integer, primary_key=True, autoincrement=True)\n",
    "    symbol = db.Column(db.String(20), nullable=False)\n",
    "    model_type = db.Column(db.String(50), nullable=False)\n",
    "    start_date = db.Column(db.String(50), nullable=False)\n",
    "    end_date = db.Column(db.String(50), nullable=False)  # Nullable if model is ongoing\n",
    "    trained_model = db.Column(db.Text)  # Serialized model data or file path\n",
    "\n",
    "    def save_trained_model(self, trained_model):\n",
    "        \"\"\"\n",
    "        Save the trained model to the database.\n",
    "        \"\"\"\n",
    "        self.trained_model = pickle.dumps(trained_model)\n",
    "        db.session.commit()\n",
    "    \n",
    "    def load_trained_model(self, model_type, start_date, end_date, symbol):\n",
    "        model = TrainedModels.query.filter_by(\n",
    "                    model_type=model_type,\n",
    "                    start_date=start_date,\n",
    "                    end_date=end_date,\n",
    "                    symbol=symbol\n",
    "                ).first()\n",
    "        if model:\n",
    "            return pickle.loads(model.trained_model)\n",
    "        else:\n",
    "            return None"
   ]
  },
  {
   "cell_type": "markdown",
   "metadata": {},
   "source": [
    "## 4. Fetch Historical Data"
   ]
  },
  {
   "cell_type": "code",
   "execution_count": 8,
   "metadata": {},
   "outputs": [],
   "source": [
    "def fetch_data(symbol, start_date, end_date):\n",
    "    data = None\n",
    "    try:\n",
    "        # Fetch historical price data\n",
    "        df = yf.download(symbol, start=start_date, end=end_date)\n",
    "\n",
    "        # Drop 'Adj Close' column if present\n",
    "        if 'Adj Close' in df.columns:\n",
    "            df.drop(columns=['Adj Close'], inplace=True)\n",
    "\n",
    "        # Store the dataframe with technical indicators\n",
    "        data = df\n",
    "\n",
    "    except Exception as e:\n",
    "        print(f\"Error fetching data for {symbol}: {e}\")\n",
    "\n",
    "    return data"
   ]
  },
  {
   "cell_type": "markdown",
   "metadata": {},
   "source": [
    "## 5. PAGES"
   ]
  },
  {
   "cell_type": "code",
   "execution_count": 9,
   "metadata": {},
   "outputs": [],
   "source": [
    "@app.route('/')\n",
    "def index():\n",
    "    return render_template('login.html')"
   ]
  },
  {
   "cell_type": "markdown",
   "metadata": {},
   "source": [
    "### 5.1 Login "
   ]
  },
  {
   "cell_type": "code",
   "execution_count": 10,
   "metadata": {},
   "outputs": [],
   "source": [
    "@app.route('/login', methods=['GET', 'POST'])\n",
    "def login():\n",
    "    if request.method == 'GET':\n",
    "        # Serve the signup page\n",
    "        return render_template('login.html')\n",
    "\n",
    "    if request.method == 'POST':\n",
    "        data = request.json\n",
    "        email = data.get('email')\n",
    "        password = data.get('password')\n",
    "        \n",
    "        # Query the user from the database\n",
    "        user = User.query.filter_by(email=email).first()\n",
    "\n",
    "        if user and check_password_hash(user.password, password): # MAIN PAGE\n",
    "            # If user exists and password is correct, redirect to the main page\n",
    "            return jsonify({'message': 'Login successful!', 'redirect': url_for('main_page')}), 200\n",
    "        else:\n",
    "            # If credentials do not match, return an error\n",
    "            return jsonify({'message': 'Invalid credentials'}), 401\n"
   ]
  },
  {
   "cell_type": "markdown",
   "metadata": {},
   "source": [
    "### 5.2 Signup"
   ]
  },
  {
   "cell_type": "code",
   "execution_count": 11,
   "metadata": {},
   "outputs": [],
   "source": [
    "@app.route('/signup', methods=['GET', 'POST'])\n",
    "def signup():\n",
    "    if request.method == 'GET':\n",
    "        # Serve the signup page\n",
    "        return render_template('signup.html')\n",
    "    \n",
    "    if request.method == 'POST':\n",
    "        data = request.json\n",
    "        if not data:\n",
    "            return jsonify({'message': 'No data provided'}), 400\n",
    "        \n",
    "        email = data.get('email')\n",
    "        password = data.get('password')\n",
    "        password_re = data.get('password_re')\n",
    "        \n",
    "        # Check if all fields are present\n",
    "        if not email or not password or not password_re:\n",
    "            return jsonify({'message': 'All fields are required.'}), 400\n",
    "\n",
    "        # Check if email already exists\n",
    "        existing_user = User.query.filter_by(email=email).first()\n",
    "        if existing_user:\n",
    "            return jsonify({'message': 'User already exists.'}), 400\n",
    "\n",
    "        # Check if passwords match\n",
    "        if password != password_re:\n",
    "            return jsonify({'message': 'Passwords do not match.'}), 400\n",
    "        \n",
    "        # Create new user\n",
    "        hashed_password = generate_password_hash(password, method='pbkdf2:sha256')\n",
    "        new_user = User(email=email, password=hashed_password, account_type='basic')\n",
    "\n",
    "        try:\n",
    "            db.session.add(new_user)\n",
    "            db.session.commit()\n",
    "            return jsonify({'redirect': url_for('login')}), 200\n",
    "        except Exception as e:\n",
    "            return jsonify({'message': 'Error creating user.'}), 500\n"
   ]
  },
  {
   "cell_type": "markdown",
   "metadata": {},
   "source": [
    "### 5.3 Forgot Passward"
   ]
  },
  {
   "cell_type": "code",
   "execution_count": 12,
   "metadata": {},
   "outputs": [],
   "source": [
    "@app.route('/forgot-password')\n",
    "def forgot_password():\n",
    "    # Render your forgot password page\n",
    "    return 'Forgot password page'"
   ]
  },
  {
   "cell_type": "markdown",
   "metadata": {},
   "source": [
    "### 5.4 Reset Password"
   ]
  },
  {
   "cell_type": "code",
   "execution_count": 13,
   "metadata": {},
   "outputs": [],
   "source": [
    "@app.route('/reset-password')\n",
    "def reset_password():\n",
    "    # Render your forgot password page\n",
    "    return 'Reset password page'"
   ]
  },
  {
   "cell_type": "markdown",
   "metadata": {},
   "source": [
    "### 5.5 Predict"
   ]
  },
  {
   "cell_type": "code",
   "execution_count": 14,
   "metadata": {},
   "outputs": [],
   "source": [
    "@app.route('/predict', methods=['POST'])\n",
    "def predict():\n",
    "    # Data fetching\n",
    "    try:\n",
    "        data = request.json\n",
    "        symbol = data['symbol']\n",
    "        data_length = data['data_length']\n",
    "        forecast_days = data['forecast_days']\n",
    "        model_type = data['model_type']\n",
    "    \n",
    "        #Set start and end date\n",
    "        now = datetime.now()\n",
    "        start_date =  (now - timedelta(days = data_length)).strftime(\"%Y-%m-%d\")\n",
    "        end_date = now.strftime(\"%Y-%m-%d\")\n",
    "\n",
    "        #Check if model already exists\n",
    "        model = TrainedModels.load_trained_model(model_type=model_type, start_date=start_date, end_date=end_date, symbol=symbol)\n",
    "        forecast_prices = None\n",
    "        if model:  # if the model is already trained avoid re-training it.\n",
    "            trained_model = model\n",
    "            # Forecast\n",
    "            forecast_prices = trained_model.forecast(forecast_days = forecast_days)\n",
    "        else:\n",
    "            data = fetch_data(symbol, start_date, end_date)\n",
    "            model = create_model(model_type, data)\n",
    "            trained_model = model.train()\n",
    "            # Create a new instance of Model\n",
    "            new_model = TrainedModels(symbol= symbol, model_type= model_type, start_date= start_date, end_date= end_date)\n",
    "            # Save the trained model to the database\n",
    "            new_model.save_trained_model(trained_model)\n",
    "            # Commit the changes\n",
    "            db.session.add(new_model)\n",
    "            db.session.commit()\n",
    "            # Forecast\n",
    "            forecast_prices = trained_model.forecast(forecast_days = forecast_days)\n",
    "\n",
    "        # Example: Data to send to Firebase\n",
    "        processed_data = {\n",
    "            'forecast_prices': forecast_prices,\n",
    "            'processed': True\n",
    "        }\n",
    "\n",
    "        return jsonify(processed_data), 200 \n",
    "\n",
    "    except KeyError as e:\n",
    "        return jsonify({'error': f'Missing key: {e.args[0]}'}, 400)\n",
    "\n",
    "    except Exception as e:\n",
    "        return jsonify({'error': str(e)}, 500)"
   ]
  },
  {
   "cell_type": "code",
   "execution_count": 15,
   "metadata": {},
   "outputs": [
    {
     "name": "stdout",
     "output_type": "stream",
     "text": [
      " * Serving Flask app '__main__'\n",
      " * Debug mode: on\n"
     ]
    },
    {
     "name": "stderr",
     "output_type": "stream",
     "text": [
      "\u001b[31m\u001b[1mWARNING: This is a development server. Do not use it in a production deployment. Use a production WSGI server instead.\u001b[0m\n",
      " * Running on http://127.0.0.1:5000\n",
      "\u001b[33mPress CTRL+C to quit\u001b[0m\n",
      "127.0.0.1 - - [30/Jul/2024 17:53:30] \"GET / HTTP/1.1\" 200 -\n",
      "127.0.0.1 - - [30/Jul/2024 17:53:32] \"GET /signup HTTP/1.1\" 200 -\n",
      "127.0.0.1 - - [30/Jul/2024 17:53:52] \"\u001b[31m\u001b[1mPOST /signup HTTP/1.1\u001b[0m\" 400 -\n",
      "127.0.0.1 - - [30/Jul/2024 17:54:10] \"POST /signup HTTP/1.1\" 200 -\n",
      "127.0.0.1 - - [30/Jul/2024 17:54:10] \"GET /login HTTP/1.1\" 200 -\n",
      "127.0.0.1 - - [30/Jul/2024 17:54:24] \"\u001b[35m\u001b[1mPOST /login HTTP/1.1\u001b[0m\" 500 -\n",
      "Traceback (most recent call last):\n",
      "  File \"/usr/local/lib/python3.8/site-packages/flask/app.py\", line 1498, in __call__\n",
      "    return self.wsgi_app(environ, start_response)\n",
      "  File \"/usr/local/lib/python3.8/site-packages/flask/app.py\", line 1476, in wsgi_app\n",
      "    response = self.handle_exception(e)\n",
      "  File \"/usr/local/lib/python3.8/site-packages/flask/app.py\", line 1473, in wsgi_app\n",
      "    response = self.full_dispatch_request()\n",
      "  File \"/usr/local/lib/python3.8/site-packages/flask/app.py\", line 882, in full_dispatch_request\n",
      "    rv = self.handle_user_exception(e)\n",
      "  File \"/usr/local/lib/python3.8/site-packages/flask/app.py\", line 880, in full_dispatch_request\n",
      "    rv = self.dispatch_request()\n",
      "  File \"/usr/local/lib/python3.8/site-packages/flask/app.py\", line 865, in dispatch_request\n",
      "    return self.ensure_sync(self.view_functions[rule.endpoint])(**view_args)  # type: ignore[no-any-return]\n",
      "  File \"<ipython-input-10-d1fcc57d2744>\", line 17, in login\n",
      "    return jsonify({'message': 'Login successful!', 'redirect': url_for('main_page')}), 200\n",
      "  File \"/usr/local/lib/python3.8/site-packages/flask/helpers.py\", line 220, in url_for\n",
      "    return current_app.url_for(\n",
      "  File \"/usr/local/lib/python3.8/site-packages/flask/app.py\", line 1084, in url_for\n",
      "    return self.handle_url_build_error(error, endpoint, values)\n",
      "  File \"/usr/local/lib/python3.8/site-packages/flask/app.py\", line 1073, in url_for\n",
      "    rv = url_adapter.build(  # type: ignore[union-attr]\n",
      "  File \"/usr/local/lib/python3.8/site-packages/werkzeug/routing/map.py\", line 924, in build\n",
      "    raise BuildError(endpoint, values, method, self)\n",
      "werkzeug.routing.exceptions.BuildError: Could not build url for endpoint 'main_page'. Did you mean 'index' instead?\n",
      "127.0.0.1 - - [30/Jul/2024 17:54:53] \"\u001b[35m\u001b[1mPOST /login HTTP/1.1\u001b[0m\" 500 -\n",
      "Traceback (most recent call last):\n",
      "  File \"/usr/local/lib/python3.8/site-packages/flask/app.py\", line 1498, in __call__\n",
      "    return self.wsgi_app(environ, start_response)\n",
      "  File \"/usr/local/lib/python3.8/site-packages/flask/app.py\", line 1476, in wsgi_app\n",
      "    response = self.handle_exception(e)\n",
      "  File \"/usr/local/lib/python3.8/site-packages/flask/app.py\", line 1473, in wsgi_app\n",
      "    response = self.full_dispatch_request()\n",
      "  File \"/usr/local/lib/python3.8/site-packages/flask/app.py\", line 882, in full_dispatch_request\n",
      "    rv = self.handle_user_exception(e)\n",
      "  File \"/usr/local/lib/python3.8/site-packages/flask/app.py\", line 880, in full_dispatch_request\n",
      "    rv = self.dispatch_request()\n",
      "  File \"/usr/local/lib/python3.8/site-packages/flask/app.py\", line 865, in dispatch_request\n",
      "    return self.ensure_sync(self.view_functions[rule.endpoint])(**view_args)  # type: ignore[no-any-return]\n",
      "  File \"<ipython-input-10-d1fcc57d2744>\", line 17, in login\n",
      "    return jsonify({'message': 'Login successful!', 'redirect': url_for('main_page')}), 200\n",
      "  File \"/usr/local/lib/python3.8/site-packages/flask/helpers.py\", line 220, in url_for\n",
      "    return current_app.url_for(\n",
      "  File \"/usr/local/lib/python3.8/site-packages/flask/app.py\", line 1084, in url_for\n",
      "    return self.handle_url_build_error(error, endpoint, values)\n",
      "  File \"/usr/local/lib/python3.8/site-packages/flask/app.py\", line 1073, in url_for\n",
      "    rv = url_adapter.build(  # type: ignore[union-attr]\n",
      "  File \"/usr/local/lib/python3.8/site-packages/werkzeug/routing/map.py\", line 924, in build\n",
      "    raise BuildError(endpoint, values, method, self)\n",
      "werkzeug.routing.exceptions.BuildError: Could not build url for endpoint 'main_page'. Did you mean 'index' instead?\n"
     ]
    }
   ],
   "source": [
    "if __name__ == '__main__':\n",
    "    with app.app_context():\n",
    "        db.create_all()\n",
    "    app.run(debug=True, use_reloader=False)"
   ]
  }
 ],
 "metadata": {
  "kernelspec": {
   "display_name": "Python 3",
   "language": "python",
   "name": "python3"
  },
  "language_info": {
   "codemirror_mode": {
    "name": "ipython",
    "version": 3
   },
   "file_extension": ".py",
   "mimetype": "text/x-python",
   "name": "python",
   "nbconvert_exporter": "python",
   "pygments_lexer": "ipython3",
   "version": "3.8.16"
  }
 },
 "nbformat": 4,
 "nbformat_minor": 2
}
