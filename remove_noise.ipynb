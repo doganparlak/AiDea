{
 "cells": [
  {
   "cell_type": "code",
   "execution_count": 12,
   "metadata": {},
   "outputs": [],
   "source": [
    "from PIL import Image, ImageSequence"
   ]
  },
  {
   "cell_type": "code",
   "execution_count": 15,
   "metadata": {},
   "outputs": [],
   "source": [
    "def remove_noise_from_gif(input_gif, output_gif):\n",
    "    # Define the background color (as an RGBA tuple)\n",
    "    background_color = (31, 31, 31, 255)  # #1f1f1f\n",
    "\n",
    "    img = Image.open(input_gif)\n",
    "    frames = []\n",
    "\n",
    "    for frame in ImageSequence.Iterator(img):\n",
    "        frame = frame.convert(\"RGBA\")\n",
    "        data = frame.getdata()\n",
    "        new_data = []\n",
    "\n",
    "        for item in data:\n",
    "            # Change dark pixels to the background color\n",
    "            if item[0] < 50 and item[1] < 50 and item[2] < 50:  # Adjust threshold as needed\n",
    "                new_data.append(background_color)  # Background color pixel\n",
    "            else:\n",
    "                new_data.append(item)\n",
    "\n",
    "        frame.putdata(new_data)\n",
    "        frames.append(frame)\n",
    "\n",
    "    frames[0].save(output_gif, save_all=True, append_images=frames[1:], loop=0)\n"
   ]
  },
  {
   "cell_type": "code",
   "execution_count": 16,
   "metadata": {},
   "outputs": [],
   "source": [
    "remove_noise_from_gif(\"static/model_training_2_black.gif\", \"static/model_training_2_black_2.gif\")"
   ]
  }
 ],
 "metadata": {
  "kernelspec": {
   "display_name": "Python 3",
   "language": "python",
   "name": "python3"
  },
  "language_info": {
   "codemirror_mode": {
    "name": "ipython",
    "version": 3
   },
   "file_extension": ".py",
   "mimetype": "text/x-python",
   "name": "python",
   "nbconvert_exporter": "python",
   "pygments_lexer": "ipython3",
   "version": "3.8.16"
  }
 },
 "nbformat": 4,
 "nbformat_minor": 2
}
